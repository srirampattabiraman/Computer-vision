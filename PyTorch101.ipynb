{
  "nbformat": 4,
  "nbformat_minor": 0,
  "metadata": {
    "colab": {
      "name": "PyTorch101.ipynb",
      "provenance": [],
      "include_colab_link": true
    },
    "kernelspec": {
      "name": "python3",
      "display_name": "Python 3"
    }
  },
  "cells": [
    {
      "cell_type": "markdown",
      "metadata": {
        "id": "view-in-github",
        "colab_type": "text"
      },
      "source": [
        "<a href=\"https://colab.research.google.com/github/srirampattabiraman/Computer-vision/blob/master/PyTorch101.ipynb\" target=\"_parent\"><img src=\"https://colab.research.google.com/assets/colab-badge.svg\" alt=\"Open In Colab\"/></a>"
      ]
    },
    {
      "cell_type": "markdown",
      "metadata": {
        "id": "_kYM3ylzYo1Q",
        "colab_type": "text"
      },
      "source": [
        "![PyTorch](https://devblogs.nvidia.com/wp-content/uploads/2017/04/pytorch-logo-dark.png)\n",
        "\n",
        "An open source machine learning framework that accelerates the path from research prototyping to production deployment.\n",
        "\n"
      ]
    },
    {
      "cell_type": "markdown",
      "metadata": {
        "id": "WcVqSTrWY6oz",
        "colab_type": "text"
      },
      "source": [
        "# Tensor - Pytorch's core data structure\n",
        "\n",
        "In Python we can create lists, lists of lists, lists of lists and so on. In NumPy there is a `numpy.ndarray` which represents `n`- dimensional array. In math there is a special name for the generalization of vectors and matrices to a higher dimensional space - a tensor\n",
        "\n",
        "Tensor is an entity with a defined number of dimensions called an order (rank). \n",
        "\n",
        "**Scalar** can be considered as a rank-0-tensor. \n",
        "\n",
        "**Vector** can be introduced as a rank-1-tensor. \n",
        "\n",
        "**Matrices** can be considered as a rank-2-tensor.\n",
        "\n",
        "# Tensor Basics\n",
        "\n",
        "Let's import the torch module first."
      ]
    },
    {
      "cell_type": "code",
      "metadata": {
        "id": "e-oFVL2tYYqp",
        "colab_type": "code",
        "colab": {}
      },
      "source": [
        "import numpy as np\n",
        "import torch"
      ],
      "execution_count": 0,
      "outputs": []
    },
    {
      "cell_type": "markdown",
      "metadata": {
        "id": "uGxuR5IEaFJa",
        "colab_type": "text"
      },
      "source": [
        "## Tensor Creation\n",
        "Let's view examples of matrices and tensors generation\n",
        "\n",
        "2-dimensional (rank-2) tensor of zeros:"
      ]
    },
    {
      "cell_type": "code",
      "metadata": {
        "id": "897JQc25aD3E",
        "colab_type": "code",
        "outputId": "aa540030-356c-42d0-ccdf-0e22e593cbcd",
        "colab": {
          "base_uri": "https://localhost:8080/",
          "height": 68
        }
      },
      "source": [
        "torch.zeros(3, 4)"
      ],
      "execution_count": 0,
      "outputs": [
        {
          "output_type": "execute_result",
          "data": {
            "text/plain": [
              "tensor([[0., 0., 0., 0.],\n",
              "        [0., 0., 0., 0.],\n",
              "        [0., 0., 0., 0.]])"
            ]
          },
          "metadata": {
            "tags": []
          },
          "execution_count": 2
        }
      ]
    },
    {
      "cell_type": "markdown",
      "metadata": {
        "id": "pujmpEBhaPRA",
        "colab_type": "text"
      },
      "source": [
        "Random rank-3 tensor:\n",
        "_read the print below and convince yourself how this is a rank-3-tensor and learn what those 5, 3, 4 values are there for_"
      ]
    },
    {
      "cell_type": "code",
      "metadata": {
        "id": "mBrznTNhaOL7",
        "colab_type": "code",
        "outputId": "4056f5c9-01e8-49da-b030-e41ea94fc9a3",
        "colab": {
          "base_uri": "https://localhost:8080/",
          "height": 340
        }
      },
      "source": [
        "torch.rand(5, 3, 4)"
      ],
      "execution_count": 0,
      "outputs": [
        {
          "output_type": "execute_result",
          "data": {
            "text/plain": [
              "tensor([[[8.3207e-02, 5.7105e-01, 8.4947e-01, 9.7555e-01],\n",
              "         [1.1677e-03, 2.2325e-01, 9.5255e-01, 9.3047e-01],\n",
              "         [8.5517e-01, 2.4974e-01, 1.4011e-01, 3.2691e-02]],\n",
              "\n",
              "        [[1.8025e-01, 7.3442e-01, 1.5170e-01, 5.3173e-01],\n",
              "         [8.2599e-01, 9.4925e-01, 1.3481e-01, 5.5524e-01],\n",
              "         [3.1359e-01, 3.7374e-01, 1.1995e-01, 6.2458e-01]],\n",
              "\n",
              "        [[2.7366e-03, 6.6127e-01, 9.5547e-01, 8.6089e-01],\n",
              "         [5.1423e-01, 9.6500e-01, 5.6237e-01, 3.9119e-01],\n",
              "         [9.8343e-01, 7.9998e-01, 5.3087e-01, 6.7127e-04]],\n",
              "\n",
              "        [[8.8795e-01, 6.5002e-01, 5.3035e-01, 6.1812e-01],\n",
              "         [8.3499e-01, 9.4921e-02, 6.1186e-01, 6.2292e-01],\n",
              "         [4.1491e-01, 3.4505e-01, 1.4967e-02, 1.0847e-01]],\n",
              "\n",
              "        [[8.1951e-01, 6.3924e-01, 3.2835e-01, 3.9459e-01],\n",
              "         [1.7525e-01, 7.5705e-01, 4.2486e-01, 2.8297e-01],\n",
              "         [6.9292e-01, 1.3675e-01, 4.6330e-01, 7.1258e-01]]])"
            ]
          },
          "metadata": {
            "tags": []
          },
          "execution_count": 3
        }
      ]
    },
    {
      "cell_type": "markdown",
      "metadata": {
        "id": "kO4fIr15asdi",
        "colab_type": "text"
      },
      "source": [
        "I am hoping you have noticed 4-elements in a row, 3 rows making one block and there are 5 blocks. \n",
        "\n",
        "Random rank-4-tensor:"
      ]
    },
    {
      "cell_type": "code",
      "metadata": {
        "id": "KiCLvMGCaVZ3",
        "colab_type": "code",
        "outputId": "eb22dccf-2cc1-47fb-d4e4-a7d95d71ab57",
        "colab": {
          "base_uri": "https://localhost:8080/",
          "height": 221
        }
      },
      "source": [
        "torch.rand(2, 2, 2, 3)"
      ],
      "execution_count": 0,
      "outputs": [
        {
          "output_type": "execute_result",
          "data": {
            "text/plain": [
              "tensor([[[[0.0669, 0.4065, 0.2227],\n",
              "          [0.4745, 0.3195, 0.6534]],\n",
              "\n",
              "         [[0.7859, 0.5397, 0.6536],\n",
              "          [0.7184, 0.3628, 0.5841]]],\n",
              "\n",
              "\n",
              "        [[[0.9677, 0.0771, 0.8360],\n",
              "          [0.3148, 0.1170, 0.3941]],\n",
              "\n",
              "         [[0.2159, 0.0426, 0.3912],\n",
              "          [0.8062, 0.1351, 0.0943]]]])"
            ]
          },
          "metadata": {
            "tags": []
          },
          "execution_count": 4
        }
      ]
    },
    {
      "cell_type": "markdown",
      "metadata": {
        "id": "lF6VL68s3AMV",
        "colab_type": "text"
      },
      "source": [
        "## Question 1:\n",
        "\n",
        "How many dimensions are there in a tensor defined as below?"
      ]
    },
    {
      "cell_type": "code",
      "metadata": {
        "id": "8IbXcI3x3Ibt",
        "colab_type": "code",
        "outputId": "3ac886bb-d633-4164-c66e-3a665698a150",
        "colab": {
          "base_uri": "https://localhost:8080/",
          "height": 34
        }
      },
      "source": [
        "torch.rand(1, 1, 1, 1)"
      ],
      "execution_count": 0,
      "outputs": [
        {
          "output_type": "execute_result",
          "data": {
            "text/plain": [
              "tensor([[[[0.4129]]]])"
            ]
          },
          "metadata": {
            "tags": []
          },
          "execution_count": 5
        }
      ]
    },
    {
      "cell_type": "markdown",
      "metadata": {
        "id": "qmgpqssRa9jF",
        "colab_type": "text"
      },
      "source": [
        "4\n",
        "\n",
        "---\n",
        "\n",
        "\n",
        "There are many more ways to create tensor using some restrictions on values it should contatn - for the full reference, please follow the [official docs](https://pytorch.org/docs/stable/torch.html#creation-ops). \n",
        "\n",
        "\n",
        ".\n",
        "---\n",
        "\n",
        "\n",
        "# Python / NumPy / Pytorch interoperability\n",
        "\n",
        "You can create tensors from python as well as numpy arrays. You can also convert torch tensors to numpy arrays. So, the interoperability between torch and numpy is pretty good. "
      ]
    },
    {
      "cell_type": "code",
      "metadata": {
        "id": "ipgpeWPfa6gE",
        "colab_type": "code",
        "outputId": "d46aaf69-90ae-4a70-ad09-8ce4c045f945",
        "colab": {
          "base_uri": "https://localhost:8080/",
          "height": 119
        }
      },
      "source": [
        "# Simple Python List\n",
        "python_list = [1, 2]\n",
        "\n",
        "# Create a numpy array from python list\n",
        "numpy_array = np.array(python_list)\n",
        "\n",
        "# Create a torch Tensor from python list\n",
        "tensor_from_list = torch.tensor(python_list)\n",
        "\n",
        "# Create a torch Tensor from Numpy array\n",
        "tensor_from_array = torch.tensor(numpy_array)\n",
        "\n",
        "# Another way to create a torch Tensor from Numpy array (share same storage)\n",
        "tensor_from_array_v2 = torch.from_numpy(numpy_array)\n",
        "\n",
        "# Convert torch tensor to numpy array\n",
        "array_from_tensor = tensor_from_array.numpy()\n",
        "\n",
        "print('List:   ', python_list)\n",
        "print('Array:  ', numpy_array)\n",
        "print('Tensor: ', tensor_from_list)\n",
        "print('Tensor: ', tensor_from_array)\n",
        "print('Tensor: ', tensor_from_array_v2)\n",
        "print('Array:  ', array_from_tensor)"
      ],
      "execution_count": 0,
      "outputs": [
        {
          "output_type": "stream",
          "text": [
            "List:    [1, 2]\n",
            "Array:   [1 2]\n",
            "Tensor:  tensor([1, 2])\n",
            "Tensor:  tensor([1, 2])\n",
            "Tensor:  tensor([1, 2])\n",
            "Array:   [1 2]\n"
          ],
          "name": "stdout"
        }
      ]
    },
    {
      "cell_type": "markdown",
      "metadata": {
        "id": "X_x-86B8gqik",
        "colab_type": "text"
      },
      "source": [
        "**Difference between** `torch.Tensor` **and** `torch.from_numpy`\n",
        "\n",
        "Pytorch aims to be an effective library for computations. What does it mean? It means that pytorch avoids memory copying if it can. "
      ]
    },
    {
      "cell_type": "code",
      "metadata": {
        "id": "eHCKDGpygn_d",
        "colab_type": "code",
        "outputId": "f8112d84-3846-4bb4-8063-6033f3959dfb",
        "colab": {
          "base_uri": "https://localhost:8080/",
          "height": 68
        }
      },
      "source": [
        "numpy_array[0] = 10\n",
        "\n",
        "print('Array:  ', numpy_array)\n",
        "print('Tensor: ', tensor_from_array)\n",
        "print('Tensor: ', tensor_from_array_v2)"
      ],
      "execution_count": 0,
      "outputs": [
        {
          "output_type": "stream",
          "text": [
            "Array:   [10  2]\n",
            "Tensor:  tensor([1, 2])\n",
            "Tensor:  tensor([10,  2])\n"
          ],
          "name": "stdout"
        }
      ]
    },
    {
      "cell_type": "markdown",
      "metadata": {
        "id": "-CKtdNRM3SMp",
        "colab_type": "text"
      },
      "source": [
        "## Question 2:\n",
        "\n",
        "Assume that we moved our complete (cats vs dogs) image dataset to numpy arrays. Then we use torch.from_numpy to convert these images to tensor. Then we apply a specific data augmentation strategy called \"CutOut\" which blocks a portion of the image directly on these tensors. What will happen to the accuracy of a model trained on this strategy compared to the one without this strategy? CutOut strategy is shown below: \n",
        "\n",
        "![CutOut](https://encrypted-tbn0.gstatic.com/images?q=tbn%3AANd9GcSnSyN835AmtQPKQbPjDHX-FmshNilbtexX95cRGQPwl56QCGDn)\n",
        "\n",
        "## Question 3:\n",
        "Why do you think we are observing this behavior?\n",
        "\n",
        "\n",
        "\n",
        "---\n",
        "\n",
        "\n"
      ]
    },
    {
      "cell_type": "markdown",
      "metadata": {
        "id": "ekJldZ2yLaSV",
        "colab_type": "text"
      },
      "source": [
        "Answer 2: The validation accuracy of the model will be increased.\n",
        "\n",
        "Answer 3 : As instead of random removing of pixels or kernels in dropout on intermediate layers we are creating visual inconsistency in image itslef that makes the network robust to noisy inputs."
      ]
    },
    {
      "cell_type": "markdown",
      "metadata": {
        "id": "z8pIoPTNLWek",
        "colab_type": "text"
      },
      "source": [
        ""
      ]
    },
    {
      "cell_type": "markdown",
      "metadata": {
        "id": "dZq7O-aihSOA",
        "colab_type": "text"
      },
      "source": [
        "We have two different ways to create tensor from its NumPy counterpart - one copies memory and another one shares the same underlying storage. It works in the opposite way:"
      ]
    },
    {
      "cell_type": "code",
      "metadata": {
        "id": "TNFOwV8EhPwQ",
        "colab_type": "code",
        "outputId": "f276550b-32c1-4486-9f7a-fa2555a03054",
        "colab": {
          "base_uri": "https://localhost:8080/",
          "height": 85
        }
      },
      "source": [
        "array_from_tensor = tensor_from_array.numpy()\n",
        "print('Tensor: ', tensor_from_array)\n",
        "print('Array: ', array_from_tensor)\n",
        "\n",
        "tensor_from_array[1] = 11\n",
        "print('Tensor: ', tensor_from_array)\n",
        "print('Array: ', array_from_tensor)"
      ],
      "execution_count": 0,
      "outputs": [
        {
          "output_type": "stream",
          "text": [
            "Tensor:  tensor([1, 2])\n",
            "Array:  [1 2]\n",
            "Tensor:  tensor([ 1, 11])\n",
            "Array:  [ 1 11]\n"
          ],
          "name": "stdout"
        }
      ]
    },
    {
      "cell_type": "markdown",
      "metadata": {
        "id": "UM9ytbvKhtCw",
        "colab_type": "text"
      },
      "source": [
        "## Data types\n",
        "\n",
        "The basic data type of all Deep Learning-related operations is float, but sometimes you may need something else. Pytorch support different number types for its tensors the same way NumPy does it - by specifying the data type on tensor creation or via casting. Ths full list of supported data types can be found [here](https://pytorch.org/docs/stable/tensors.html). "
      ]
    },
    {
      "cell_type": "code",
      "metadata": {
        "id": "Bd6WkzJ4hpYi",
        "colab_type": "code",
        "outputId": "694c3afd-73c8-44ad-8c18-b627867fa3c4",
        "colab": {
          "base_uri": "https://localhost:8080/",
          "height": 153
        }
      },
      "source": [
        "tensor = torch.zeros(2, 2)\n",
        "print('Tensor with default type: ', tensor)\n",
        "tensor = torch.zeros(2, 2, dtype=torch.float16)\n",
        "print('Tensor with 16-bit float: ', tensor)\n",
        "tensor = torch.zeros(2, 2, dtype=torch.int16)\n",
        "print('Tensor with integers: ', tensor)\n",
        "tensor = torch.zeros(2, 2, dtype=torch.bool)\n",
        "print('Tensor with boolean data: ', tensor)"
      ],
      "execution_count": 0,
      "outputs": [
        {
          "output_type": "stream",
          "text": [
            "Tensor with default type:  tensor([[0., 0.],\n",
            "        [0., 0.]])\n",
            "Tensor with 16-bit float:  tensor([[0., 0.],\n",
            "        [0., 0.]], dtype=torch.float16)\n",
            "Tensor with integers:  tensor([[0, 0],\n",
            "        [0, 0]], dtype=torch.int16)\n",
            "Tensor with boolean data:  tensor([[False, False],\n",
            "        [False, False]])\n"
          ],
          "name": "stdout"
        }
      ]
    },
    {
      "cell_type": "markdown",
      "metadata": {
        "id": "a9F4Dkdr40TE",
        "colab_type": "text"
      },
      "source": [
        "\n",
        "\n",
        "---\n",
        "\n",
        "\n",
        "## Question 4:\n",
        "We saw above that some times numpy and tensors share same storage and changing one changes the other. \n",
        "If we define a rank-2-tensor with ones (dtype of f16), and then convert it into a numpy data type using tensor.numpy() and store it in a variable called \"num\", and then we perform this operation `num = num * 0.5`, will the original tensor have 1.0s or 0.5s as its element values? \n"
      ]
    },
    {
      "cell_type": "markdown",
      "metadata": {
        "id": "iSTYwLr63e0n",
        "colab_type": "text"
      },
      "source": [
        "1 As it uses tensor.numpy() that refers memory not storage"
      ]
    },
    {
      "cell_type": "code",
      "metadata": {
        "id": "uiEIKiMC4s9g",
        "colab_type": "code",
        "outputId": "c21cd7e5-0b2b-4b52-80bd-9c795693f267",
        "colab": {
          "base_uri": "https://localhost:8080/",
          "height": 51
        }
      },
      "source": [
        "num = torch.rand(1,1)\n",
        "print(num)\n",
        "num_np = num.numpy()\n",
        "num_np[:] = num_np * 0.5\n",
        "num"
      ],
      "execution_count": 0,
      "outputs": [
        {
          "output_type": "stream",
          "text": [
            "tensor([[0.3092]])\n"
          ],
          "name": "stdout"
        },
        {
          "output_type": "execute_result",
          "data": {
            "text/plain": [
              "tensor([[0.1546]])"
            ]
          },
          "metadata": {
            "tags": []
          },
          "execution_count": 10
        }
      ]
    },
    {
      "cell_type": "markdown",
      "metadata": {
        "id": "OiQt8Mmm51OE",
        "colab_type": "text"
      },
      "source": [
        "\n",
        "\n",
        "---\n",
        "\n",
        "## Question 5: \n",
        "If the operation `num = num*5` is changed to `num[:] = num*5` will the original tensor have 1.0s or 0.5s as its element values? \n",
        "\n",
        "\n",
        "Neither as it multiplies \"num\" with 5 it has 5 as its elements value\n",
        "---\n",
        "\n"
      ]
    },
    {
      "cell_type": "markdown",
      "metadata": {
        "id": "vzh8UB8KiVmb",
        "colab_type": "text"
      },
      "source": [
        "## Indexing\n",
        "\n",
        "Tensor provides access to its elements via the same `[]` operation as a regular python list or NumPy array. However, as you may recall from NumPy usage, the full power of math libraries is accessible only via vectorized operations, i.e. operations without explicit looping over all vector elements in python and using implicit optimized loops in C/C++/CUDA/Fortran/etc. available via special function calls. Pytorch employs the same paradigm and provides a wide range of vectorized operations. Let's take a look at some examples. \n",
        "\n",
        "Joining a list of tensors together with `torch.cat`"
      ]
    },
    {
      "cell_type": "code",
      "metadata": {
        "id": "GMaCDKPhiUAb",
        "colab_type": "code",
        "outputId": "d53b8460-6e76-4c94-ce56-a600e8cd38c8",
        "colab": {
          "base_uri": "https://localhost:8080/",
          "height": 68
        }
      },
      "source": [
        "a = torch.zeros(3, 2)\n",
        "b = torch.ones(3, 2)\n",
        "\n",
        "print(torch.cat((a, b), dim=1))"
      ],
      "execution_count": 0,
      "outputs": [
        {
          "output_type": "stream",
          "text": [
            "tensor([[0., 0., 1., 1.],\n",
            "        [0., 0., 1., 1.],\n",
            "        [0., 0., 1., 1.]])\n"
          ],
          "name": "stdout"
        }
      ]
    },
    {
      "cell_type": "markdown",
      "metadata": {
        "id": "5bj4aeE86zdH",
        "colab_type": "text"
      },
      "source": [
        "\n",
        "\n",
        "---\n",
        "\n",
        "## Question 6: \n",
        "Is the transpose of concatenated a & b tensor on dimension 1, same as the contatenated tensor of a & b on dimension 0? \n",
        "\n",
        "\n",
        "\n",
        "---\n",
        "\n"
      ]
    },
    {
      "cell_type": "markdown",
      "metadata": {
        "id": "tkbjw-LE-Cb3",
        "colab_type": "text"
      },
      "source": [
        "yes"
      ]
    },
    {
      "cell_type": "markdown",
      "metadata": {
        "id": "0TXNne69j7LP",
        "colab_type": "text"
      },
      "source": [
        "Indexing with another tensor/array:"
      ]
    },
    {
      "cell_type": "code",
      "metadata": {
        "id": "KiE-Fsi4jVd6",
        "colab_type": "code",
        "outputId": "5a7bb013-d248-423e-bc75-c96d9de7cbd3",
        "colab": {
          "base_uri": "https://localhost:8080/",
          "height": 102
        }
      },
      "source": [
        "a = torch.arange(start=0, end=10)\n",
        "indices = np.arange(0, 10) > 5\n",
        "print(a)\n",
        "print(indices)\n",
        "print(a[indices])\n",
        " \n",
        "\n",
        "indices = torch.arange(start=0, end=10) %5\n",
        "print(indices)\n",
        "print(a[indices])"
      ],
      "execution_count": 0,
      "outputs": [
        {
          "output_type": "stream",
          "text": [
            "tensor([0, 1, 2, 3, 4, 5, 6, 7, 8, 9])\n",
            "[False False False False False False  True  True  True  True]\n",
            "tensor([6, 7, 8, 9])\n",
            "tensor([0, 1, 2, 3, 4, 0, 1, 2, 3, 4])\n",
            "tensor([0, 1, 2, 3, 4, 0, 1, 2, 3, 4])\n"
          ],
          "name": "stdout"
        }
      ]
    },
    {
      "cell_type": "markdown",
      "metadata": {
        "id": "LS4dnlu47WQu",
        "colab_type": "text"
      },
      "source": [
        "\n",
        "\n",
        "---\n",
        "\n",
        "## Question 7:\n",
        "\n",
        "`a` is defined as `torch.arange(start=0, end=10)`. We will create `b` using the two operations as below. In both cases do we get the same value?\n",
        "\n",
        "\n",
        "1.   indices variable created by the modulo operation on arange between 0 and 10. Then a new varialble `b` is created from `a` using the last 5 elements of indices. \n",
        "2.   indices variable created by the modulo operation on arange betwenn 1 and 11. Then a new varialble `b` is created from `a` using the last 5 elements of indices. \n",
        "\n",
        "\n",
        "\n",
        "---\n",
        "\n",
        "\n"
      ]
    },
    {
      "cell_type": "markdown",
      "metadata": {
        "id": "aD0nKzCv_r-d",
        "colab_type": "text"
      },
      "source": [
        "No-\n",
        "Case 1: [5,6,7,8,9]\n",
        "Case 2: [6,7,8,9,10]"
      ]
    },
    {
      "cell_type": "markdown",
      "metadata": {
        "id": "JPyyZ2kf_ThP",
        "colab_type": "text"
      },
      "source": [
        ""
      ]
    },
    {
      "cell_type": "markdown",
      "metadata": {
        "id": "eQ4ZCVsTk-KH",
        "colab_type": "text"
      },
      "source": [
        "What should we do if we have, say, rank-2-tensor and want to select only some rows?"
      ]
    },
    {
      "cell_type": "code",
      "metadata": {
        "id": "_GtRpotjkt1q",
        "colab_type": "code",
        "outputId": "abb3bdb9-63f2-461f-b690-9ae5d05488c5",
        "colab": {
          "base_uri": "https://localhost:8080/",
          "height": 136
        }
      },
      "source": [
        "tensor = torch.rand((5, 3))\n",
        "rows = torch.tensor([0, 2])\n",
        "print(tensor)\n",
        "tensor[rows]"
      ],
      "execution_count": 0,
      "outputs": [
        {
          "output_type": "stream",
          "text": [
            "tensor([[0.7193, 0.2334, 0.9437],\n",
            "        [0.0222, 0.1691, 0.6466],\n",
            "        [0.2249, 0.5834, 0.3149],\n",
            "        [0.4965, 0.6550, 0.9493],\n",
            "        [0.7989, 0.0809, 0.8687]])\n"
          ],
          "name": "stdout"
        },
        {
          "output_type": "execute_result",
          "data": {
            "text/plain": [
              "tensor([[0.7193, 0.2334, 0.9437],\n",
              "        [0.2249, 0.5834, 0.3149]])"
            ]
          },
          "metadata": {
            "tags": []
          },
          "execution_count": 13
        }
      ]
    },
    {
      "cell_type": "markdown",
      "metadata": {
        "id": "zIJnr_N2_Qaf",
        "colab_type": "text"
      },
      "source": [
        "\n",
        "\n",
        "---\n",
        "\n",
        "## Question 8: \n",
        "\n",
        "Consider a tensor defined as `torch.rand((6, 5))`. Is the shape of the new tensor created by taking the 0th, 2nd and 4th row of the old tensor same as the shape of the a newer tensor created by taking the 0th, 2nd and 4th row of the old tensor after transposing it by operation `torch.transpose(tensor, 0, 1)` ?\n",
        "\n",
        "\n",
        "\n",
        "---\n",
        "\n",
        "\n"
      ]
    },
    {
      "cell_type": "markdown",
      "metadata": {
        "id": "M_5NNYGQCBAE",
        "colab_type": "text"
      },
      "source": [
        "Yes as the transpose of 3 cross 3  is also  3 cross 3 "
      ]
    },
    {
      "cell_type": "markdown",
      "metadata": {
        "id": "naDzFMkslU0b",
        "colab_type": "text"
      },
      "source": [
        "## Tensor Shapes\n",
        "\n",
        "Reshaping a tensor is a frequently used operation. We can change the shape of a tensor without the memory copying overhead. There are two methods for that: `reshape` and `view`. \n",
        "\n",
        "The difference is the following: \n",
        "\n",
        "\n",
        "*   view tries to return a tensor, and it shares the same memory with the original tensor. In case, if it cannot reuse the same memory due to [some reason](https://pytorch.org/docs/stable/tensors.html?highlight=view#torch.Tensor.view), it just fails. \n",
        "*   reshape always returns the tensor with the desired shape and tries to reuse the memory. If it cannot, it creates a copy\n",
        "\n",
        "Let's see with the help of an example:"
      ]
    },
    {
      "cell_type": "code",
      "metadata": {
        "id": "HClDkqLLlMJh",
        "colab_type": "code",
        "outputId": "6ef72dad-b914-412f-cfc0-99a283780a4c",
        "colab": {
          "base_uri": "https://localhost:8080/",
          "height": 170
        }
      },
      "source": [
        "tensor = torch.rand(2, 3, 4)\n",
        "print('Pointer to data: ', tensor.data_ptr())\n",
        "print('Shape: ', tensor.shape)\n",
        "\n",
        "reshaped = tensor.reshape(24)\n",
        "\n",
        "view = tensor.view(3, 2, 4)\n",
        "print('Reshaped tensor - pointer to data', reshaped.data_ptr())\n",
        "print('Reshaped tensor shape ', reshaped.shape)\n",
        "\n",
        "print('Viewed tensor - pointer to data', view.data_ptr())\n",
        "print('Viewed tensor shape ', view.shape)\n",
        "\n",
        "assert tensor.data_ptr() == view.data_ptr()\n",
        "\n",
        "assert np.all(np.equal(tensor.numpy().flat, reshaped.numpy().flat))\n",
        "\n",
        "print('Original stride: ', tensor.stride())\n",
        "print('Reshaped stride: ', reshaped.stride())\n",
        "print('Viewed stride: ', view.stride())"
      ],
      "execution_count": 0,
      "outputs": [
        {
          "output_type": "stream",
          "text": [
            "Pointer to data:  101358848\n",
            "Shape:  torch.Size([2, 3, 4])\n",
            "Reshaped tensor - pointer to data 101358848\n",
            "Reshaped tensor shape  torch.Size([24])\n",
            "Viewed tensor - pointer to data 101358848\n",
            "Viewed tensor shape  torch.Size([3, 2, 4])\n",
            "Original stride:  (12, 4, 1)\n",
            "Reshaped stride:  (1,)\n",
            "Viewed stride:  (8, 4, 1)\n"
          ],
          "name": "stdout"
        }
      ]
    },
    {
      "cell_type": "markdown",
      "metadata": {
        "id": "jIN5jSppm4yC",
        "colab_type": "text"
      },
      "source": [
        "The basic rule about reshaping the tensor is definitely that you cannot change the total number of elements in it, so the product of all tensor's dimensions should always be the same. It gives us the ability to avoid specifying one dimension when reshaping the tensor - Pytorch can calculate it for us:"
      ]
    },
    {
      "cell_type": "code",
      "metadata": {
        "id": "e3D19ERFmzOl",
        "colab_type": "code",
        "outputId": "10f855d5-24ff-4e47-ddad-3e7037a1d24f",
        "colab": {
          "base_uri": "https://localhost:8080/",
          "height": 340
        }
      },
      "source": [
        "print(tensor.reshape(3, 2, 4).shape)\n",
        "print(tensor)\n",
        "print(tensor.reshape(3, 2, -1).shape)\n",
        "print(tensor.reshape(3, -1, 4).shape)\n",
        "print(tensor.reshape(2, 3, 4).shape)\n",
        "print(tensor.reshape(-1).shape)\n",
        "print(tensor)"
      ],
      "execution_count": 0,
      "outputs": [
        {
          "output_type": "stream",
          "text": [
            "torch.Size([3, 2, 4])\n",
            "tensor([[[0.8679, 0.5687, 0.1801, 0.6781],\n",
            "         [0.2998, 0.5073, 0.2777, 0.2601],\n",
            "         [0.0617, 0.8595, 0.7866, 0.7627]],\n",
            "\n",
            "        [[0.7937, 0.8857, 0.6163, 0.5771],\n",
            "         [0.9261, 0.0214, 0.7028, 0.1098],\n",
            "         [0.5903, 0.7435, 0.0591, 0.9084]]])\n",
            "torch.Size([3, 2, 4])\n",
            "torch.Size([3, 2, 4])\n",
            "torch.Size([2, 3, 4])\n",
            "torch.Size([24])\n",
            "tensor([[[0.8679, 0.5687, 0.1801, 0.6781],\n",
            "         [0.2998, 0.5073, 0.2777, 0.2601],\n",
            "         [0.0617, 0.8595, 0.7866, 0.7627]],\n",
            "\n",
            "        [[0.7937, 0.8857, 0.6163, 0.5771],\n",
            "         [0.9261, 0.0214, 0.7028, 0.1098],\n",
            "         [0.5903, 0.7435, 0.0591, 0.9084]]])\n"
          ],
          "name": "stdout"
        }
      ]
    },
    {
      "cell_type": "code",
      "metadata": {
        "id": "szm9tJEHFY-2",
        "colab_type": "code",
        "outputId": "5bc3c407-8a67-42b3-ab29-cc76330e1027",
        "colab": {
          "base_uri": "https://localhost:8080/",
          "height": 266
        }
      },
      "source": [
        "a = torch.tensor([1, 2, 3])\n",
        "# print(a.reshape(-1, 2).shape)\n",
        "a = a.reshape(-1, 3)\n",
        "print(a.shape)\n",
        "b = torch.tensor([[2, 1]])\n",
        "b = b.view(2, -1)\n",
        "print(b.shape)\n",
        "d = torch.mm(a, b)\n",
        "# b = torch.rand(2,1)\n",
        "# # b = b.reshape(1,2)\n",
        "# b = b.view(2, -1)\n",
        "# print(b)\n",
        "# odt = torch.mm(a, b)"
      ],
      "execution_count": 0,
      "outputs": [
        {
          "output_type": "stream",
          "text": [
            "torch.Size([1, 3])\n",
            "torch.Size([2, 1])\n"
          ],
          "name": "stdout"
        },
        {
          "output_type": "error",
          "ename": "RuntimeError",
          "evalue": "ignored",
          "traceback": [
            "\u001b[0;31m---------------------------------------------------------------------------\u001b[0m",
            "\u001b[0;31mRuntimeError\u001b[0m                              Traceback (most recent call last)",
            "\u001b[0;32m<ipython-input-50-09ff9ed458e9>\u001b[0m in \u001b[0;36m<module>\u001b[0;34m()\u001b[0m\n\u001b[1;32m      6\u001b[0m \u001b[0mb\u001b[0m \u001b[0;34m=\u001b[0m \u001b[0mb\u001b[0m\u001b[0;34m.\u001b[0m\u001b[0mview\u001b[0m\u001b[0;34m(\u001b[0m\u001b[0;36m2\u001b[0m\u001b[0;34m,\u001b[0m \u001b[0;34m-\u001b[0m\u001b[0;36m1\u001b[0m\u001b[0;34m)\u001b[0m\u001b[0;34m\u001b[0m\u001b[0;34m\u001b[0m\u001b[0m\n\u001b[1;32m      7\u001b[0m \u001b[0mprint\u001b[0m\u001b[0;34m(\u001b[0m\u001b[0mb\u001b[0m\u001b[0;34m.\u001b[0m\u001b[0mshape\u001b[0m\u001b[0;34m)\u001b[0m\u001b[0;34m\u001b[0m\u001b[0;34m\u001b[0m\u001b[0m\n\u001b[0;32m----> 8\u001b[0;31m \u001b[0md\u001b[0m \u001b[0;34m=\u001b[0m \u001b[0mtorch\u001b[0m\u001b[0;34m.\u001b[0m\u001b[0mmm\u001b[0m\u001b[0;34m(\u001b[0m\u001b[0ma\u001b[0m\u001b[0;34m,\u001b[0m \u001b[0mb\u001b[0m\u001b[0;34m)\u001b[0m\u001b[0;34m\u001b[0m\u001b[0;34m\u001b[0m\u001b[0m\n\u001b[0m\u001b[1;32m      9\u001b[0m \u001b[0;31m# b = torch.rand(2,1)\u001b[0m\u001b[0;34m\u001b[0m\u001b[0;34m\u001b[0m\u001b[0;34m\u001b[0m\u001b[0m\n\u001b[1;32m     10\u001b[0m \u001b[0;31m# # b = b.reshape(1,2)\u001b[0m\u001b[0;34m\u001b[0m\u001b[0;34m\u001b[0m\u001b[0;34m\u001b[0m\u001b[0m\n",
            "\u001b[0;31mRuntimeError\u001b[0m: size mismatch, m1: [1 x 3], m2: [2 x 1] at /pytorch/aten/src/TH/generic/THTensorMath.cpp:136"
          ]
        }
      ]
    },
    {
      "cell_type": "markdown",
      "metadata": {
        "id": "ObgCQKUiETak",
        "colab_type": "text"
      },
      "source": [
        "\n",
        "\n",
        "---\n",
        "\n",
        "\n",
        "## Question 9:\n",
        "\n",
        "Consider a tensor `a` created with [1, 2, 3] and [1, 2, 3] of size (2, 3) is reshaped with operation `.reshape(-1, 2)`. Also consider a tensor `b` created with [[2, 1]] and of size (1, 2), later operated with `view(2, -1)` operation. \n",
        "\n",
        "If we do a dot product of a and b (using `torch.mm`) and perform the sum of all the elements (using `torch.sum`) what do we get? (enter int value without any decimal point in the quiz)\n",
        "\n",
        "\n",
        "\n",
        "---\n",
        "\n"
      ]
    },
    {
      "cell_type": "markdown",
      "metadata": {
        "id": "C038B3wCHTr7",
        "colab_type": "text"
      },
      "source": [
        ""
      ]
    },
    {
      "cell_type": "markdown",
      "metadata": {
        "id": "mza7QPg3ndeV",
        "colab_type": "text"
      },
      "source": [
        "**Alternative ways to view tensors** - `expand` or `expand_as`.\n",
        "\n",
        "\n",
        "\n",
        "*   `expand` - requires the desired shape as an input\n",
        "*   `expand_as` - uses the shape of another tensor\n",
        "\n",
        "These operations \"repeat\" tensor's values along the specified axes without actually copying the data. \n",
        "\n",
        "As the documentation says, expand:\n",
        "\n",
        "\n",
        "> returns a new view of the self tensor with singleton dimensions expanded to a larger size. Tensor can be also expanded to a larger number of dimensions, and the new ones will be appended at the front. For the new dimensions, the size cannot be set to -1. \n",
        "\n",
        "**Use case:**\n",
        "\n",
        "\n",
        "\n",
        "*   index multi-channel tensor with single-channel mask - imagine a color image with 3 channels (RGB) and binary mask for the area of interest on that image. We cannot index the image with this kind of mask directly since the dimensions are different, but we can use `expand_as` operation to create a view of the mask that has the same dimensions as the image we want to apply it to, but has not copied the data. "
      ]
    },
    {
      "cell_type": "code",
      "metadata": {
        "id": "iz33E-V7nPQT",
        "colab_type": "code",
        "outputId": "b97959af-126b-4d6c-98fa-d3915f99fd78",
        "colab": {
          "base_uri": "https://localhost:8080/",
          "height": 595
        }
      },
      "source": [
        "%matplotlib inline\n",
        "from matplotlib import pyplot as plt\n",
        "\n",
        "# Create a black image\n",
        "image = torch.zeros(size=(3, 256, 256), dtype=torch.int)\n",
        "\n",
        "# Leave the borders and make the rest of the image Green\n",
        "image[1, 18:256 - 18, 18:256 - 18] = 255\n",
        "\n",
        "# Create a mask of the same size\n",
        "mask = torch.zeros(size=(256, 256), dtype=torch.bool)\n",
        "\n",
        "\n",
        "# Assuming the green region in the original image is the Region of interest, change the mask to white for that area\n",
        "mask[18:256 - 18, 18:256 - 18] = 1\n",
        "# print(mask)\n",
        "\n",
        "# Create a view of the mask with the same dimensions as the original image\n",
        "mask_expanded = mask.expand_as(image)\n",
        "# print(mask_expanded)\n",
        "print(mask_expanded.shape)\n",
        "\n",
        "mask_np = mask_expanded.numpy().transpose(1, 2, 0) * 255\n",
        "image_np = image.numpy().transpose(1, 2, 0)\n",
        "# print(image_np)\n",
        "fig, ax = plt.subplots(1, 2)\n",
        "ax[0].imshow(image_np)\n",
        "ax[1].imshow(mask_np)\n",
        "plt.show()\n",
        "\n",
        "image[0, mask] += 128\n",
        "fig, ax = plt.subplots(1, 2)\n",
        "ax[0].imshow(image_np)\n",
        "ax[1].imshow(mask_np)\n",
        "plt.show()\n",
        "\n",
        "image[mask_expanded] += 128\n",
        "image.clamp_(0, 255)\n",
        "fig, ax = plt.subplots(1, 2)\n",
        "ax[0].imshow(image_np)\n",
        "ax[1].imshow(mask_np)\n",
        "plt.show()"
      ],
      "execution_count": 0,
      "outputs": [
        {
          "output_type": "stream",
          "text": [
            "torch.Size([3, 256, 256])\n"
          ],
          "name": "stdout"
        },
        {
          "output_type": "display_data",
          "data": {
            "image/png": "[encoded data removed]",
            "text/plain": [
              "<Figure size 432x288 with 2 Axes>"
            ]
          },
          "metadata": {
            "tags": []
          }
        },
        {
          "output_type": "display_data",
          "data": {
            "image/png": "[encoded data removed]",
            "text/plain": [
              "<Figure size 432x288 with 2 Axes>"
            ]
          },
          "metadata": {
            "tags": []
          }
        },
        {
          "output_type": "display_data",
          "data": {
            "image/png": "[encoded data removed]",
            "text/plain": [
              "<Figure size 432x288 with 2 Axes>"
            ]
          },
          "metadata": {
            "tags": []
          }
        }
      ]
    },
    {
      "cell_type": "markdown",
      "metadata": {
        "id": "jiXBx0k3ptOI",
        "colab_type": "text"
      },
      "source": [
        "In the example above, one can also find a couple of useful tricks:\n",
        "\n",
        "\n",
        "*   `clamp` method and function is a Pytorch's analogue of NumPy's `clip` function\n",
        "*   many operations on tensors have in-place form, that does not return modified data, but change values in the tensor. The in-place version of the operation has trailing underscore according to Pytorch's naming convension - in the exmaple above it is `clamp_`\n",
        "*   tensors have the same indexing as Numpy's arrays - one can use `:` seperated range, negative indexes and so on.\n",
        "\n",
        "\n",
        ".\n",
        "\n",
        "\n",
        "---\n",
        "\n",
        "# Images and their representations\n",
        "\n",
        "Now, let's discuss images, their representations and how different Python librarties work with them. \n",
        "\n",
        "Probably, the most well-known library for image loading and simple processing is [Pillow](https://pillow.readthedocs.io/en/stable/). \n",
        "\n",
        "However, many people in deep learning area stick with OpenCV for image loading and processing with some usage of another libraries when it is justified by performance/functionality. This is because OpenCV is in general much faster than the other libraries. Here you can find a couple of benchmarks: \n",
        "\n",
        "*   https://www.kaggle.com/zfturbo/benchmark-2019-speed-of-image-reading\n",
        "*   https://github.com/albumentations-team/albumentations#benchmarking-results\n",
        "\n",
        "To sum up the benchmarks above, there are two most common image formats, PNG and JPEGs. If your data is in PNG format - use OpenCV to read it. If it is in JPEG - use libturbojpeg. For image processing, use OpenCV if possible. _We will be using PIL a lot along with these._\n",
        "\n",
        "As you will read the code from others, you may find out that some of them use Pillow/something else to read data. You should know, that color image representations in OpenCV and other libraries are different - OpenCV uses \"BGR\" channel order, while others use \"RGB\" one. \n",
        "\n",
        "To change \"BRG\" <-> \"RGB\" the only thing we need to do it to change channel order."
      ]
    },
    {
      "cell_type": "code",
      "metadata": {
        "id": "ZYv4sZMmpndu",
        "colab_type": "code",
        "outputId": "449b97a7-7201-4ef5-9a09-0f278369131d",
        "colab": {
          "base_uri": "https://localhost:8080/",
          "height": 169
        }
      },
      "source": [
        "%matplotlib inline\n",
        "from matplotlib import pyplot as plt\n",
        "import cv2\n",
        "import os\n",
        "print(os.getcwd())\n",
        "\n",
        "bgr_image = cv2.imread('./mars.jpeg') \n",
        "# remember to add your own image in case you run this block, if you want to use the same image, \n",
        "# download it from: https://encrypted-tbn0.gstatic.com/images?q=tbn%3AANd9GcRCA40ftnscVzfV8ft8e7vIzQXfXeZdtco8nknJrfCUW6INI40U\n",
        "rgb_image = bgr_image[..., ::-1]\n",
        "fig, ax = plt.subplots(1, 2)\n",
        "ax[0].imshow(bgr_image)\n",
        "ax[1].imshow(rgb_image)\n",
        "plt.show()"
      ],
      "execution_count": 0,
      "outputs": [
        {
          "output_type": "stream",
          "text": [
            "/content\n"
          ],
          "name": "stdout"
        },
        {
          "output_type": "display_data",
          "data": {
            "image/png": "[encoded data removed]",
            "text/plain": [
              "<Figure size 432x288 with 2 Axes>"
            ]
          },
          "metadata": {
            "tags": []
          }
        }
      ]
    },
    {
      "cell_type": "markdown",
      "metadata": {
        "id": "yoi4TeNBGHle",
        "colab_type": "text"
      },
      "source": [
        "\n",
        "\n",
        "---\n",
        "\n",
        "## Question 10:\n",
        "\n",
        "Looking at the results above it can be said that the pixel values in the blue channels would be very small compared to red channel. True/False?\n",
        "\n",
        "\n",
        "---\n",
        "\n",
        "\n"
      ]
    },
    {
      "cell_type": "markdown",
      "metadata": {
        "id": "mTULLUcxQOBr",
        "colab_type": "text"
      },
      "source": [
        "false"
      ]
    },
    {
      "cell_type": "markdown",
      "metadata": {
        "id": "b3ugFd57zNwa",
        "colab_type": "text"
      },
      "source": [
        "# Autograd\n",
        "\n",
        "Pytorch supports automatic differentiation. The module which implements this is called **AutoGrad**. It calculates the gradients and keeps track in forward and backward passes. For primitive tensors, you need to enable or disable it using the `required_grad` flag. But, for advanced tensors, it is enabled by default"
      ]
    },
    {
      "cell_type": "code",
      "metadata": {
        "id": "VMOp4aiou6JR",
        "colab_type": "code",
        "outputId": "4fafa3f8-f8d2-4f35-ead1-58190fda1852",
        "colab": {
          "base_uri": "https://localhost:8080/",
          "height": 187
        }
      },
      "source": [
        "a = torch.rand((3, 5), requires_grad = True)\n",
        "print(a)\n",
        "result = a * 5\n",
        "print(result)\n",
        "\n",
        "# grad can be implicitly created only for scalar outputs\n",
        "# so let's calculate the sum here so that the output becomes a scalar and we can apply a backward pass\n",
        "mean_result = result.sum()\n",
        "print(mean_result)\n",
        "# calculate gradient\n",
        "mean_result.backward()\n",
        "# print gradient of a\n",
        "print(a.grad)"
      ],
      "execution_count": 0,
      "outputs": [
        {
          "output_type": "stream",
          "text": [
            "tensor([[0.1365, 0.7906, 0.2476, 0.3888, 0.1967],\n",
            "        [0.6184, 0.7177, 0.7143, 0.5078, 0.2485],\n",
            "        [0.6969, 0.8610, 0.2125, 0.9390, 0.0471]], requires_grad=True)\n",
            "tensor([[0.6823, 3.9530, 1.2378, 1.9438, 0.9833],\n",
            "        [3.0921, 3.5883, 3.5716, 2.5390, 1.2426],\n",
            "        [3.4844, 4.3048, 1.0624, 4.6950, 0.2357]], grad_fn=<MulBackward0>)\n",
            "tensor(36.6162, grad_fn=<SumBackward0>)\n",
            "tensor([[5., 5., 5., 5., 5.],\n",
            "        [5., 5., 5., 5., 5.],\n",
            "        [5., 5., 5., 5., 5.]])\n"
          ],
          "name": "stdout"
        }
      ]
    },
    {
      "cell_type": "markdown",
      "metadata": {
        "id": "ym0Amk2IGfLx",
        "colab_type": "text"
      },
      "source": [
        "\n",
        "\n",
        "---\n",
        "\n",
        "## Question 11: \n",
        "\n",
        "Why the gradient of a is all 5s above?\n",
        "\n",
        "\n",
        "\n",
        "---\n",
        "\n"
      ]
    },
    {
      "cell_type": "markdown",
      "metadata": {
        "id": "vqQpIBc_RLHr",
        "colab_type": "text"
      },
      "source": [
        "differentiation of 5a with respect to a gives 5 as result"
      ]
    },
    {
      "cell_type": "markdown",
      "metadata": {
        "id": "7PDgGq2R0k7I",
        "colab_type": "text"
      },
      "source": [
        "As we see, Pytorch automagically calculated the gradient value for us. It looks to be the correct value - we multiplied an input by 5, so the gradient of this operation equals to 5.\n",
        "\n",
        "# Disabling Autograd for tensors\n",
        "\n",
        "We don't need to compute gradients for all the variables that are involved in the pipeline. The Pytorch API provides 2 ways to disable autograd.\n",
        "\n",
        "`detach` - returns a copy of the tensor with autograd disabled. This \n",
        "\n",
        "1.   copy is built on the same memory as the original tensor, so in-place size / stride / storage changes (such as resize_ / resizeas / set / transpose) modifications are not allowed.\n",
        "2.   torch.no_grad() - It is a context manager that allows you to guard a series of operations from autograd without creating new tensors."
      ]
    },
    {
      "cell_type": "code",
      "metadata": {
        "id": "yqVG9fQb0cLW",
        "colab_type": "code",
        "outputId": "2081f403-31a2-4296-c670-b899e246a8cc",
        "colab": {
          "base_uri": "https://localhost:8080/",
          "height": 71
        }
      },
      "source": [
        "a = torch.rand((3, 5), requires_grad=True)\n",
        "detached_a = a.detach()\n",
        "detached_result = detached_a * 5\n",
        "result = a * 10\n",
        "# we cannot do backward pass that is required for autograd using multideminsional output,\n",
        "# so let's calculate the sum here\n",
        "mean_result = result.sum()\n",
        "mean_result.backward()\n",
        "a.grad"
      ],
      "execution_count": 0,
      "outputs": [
        {
          "output_type": "execute_result",
          "data": {
            "text/plain": [
              "tensor([[10., 10., 10., 10., 10.],\n",
              "        [10., 10., 10., 10., 10.],\n",
              "        [10., 10., 10., 10., 10.]])"
            ]
          },
          "metadata": {
            "tags": []
          },
          "execution_count": 37
        }
      ]
    },
    {
      "cell_type": "code",
      "metadata": {
        "id": "uqpch2Be02J7",
        "colab_type": "code",
        "outputId": "0a5ee8e8-81b8-46f0-c7fc-ac406657e928",
        "colab": {
          "base_uri": "https://localhost:8080/",
          "height": 71
        }
      },
      "source": [
        "a = torch.rand((3, 5), requires_grad=True)\n",
        "with torch.no_grad():\n",
        "    detached_result = a * 5\n",
        "result = a * 10\n",
        "# we cannot do backward pass that is required for autograd using multideminsional output,\n",
        "# so let's calculate the sum here\n",
        "mean_result = result.sum()\n",
        "mean_result.backward()\n",
        "a.grad"
      ],
      "execution_count": 0,
      "outputs": [
        {
          "output_type": "execute_result",
          "data": {
            "text/plain": [
              "tensor([[10., 10., 10., 10., 10.],\n",
              "        [10., 10., 10., 10., 10.],\n",
              "        [10., 10., 10., 10., 10.]])"
            ]
          },
          "metadata": {
            "tags": []
          },
          "execution_count": 38
        }
      ]
    },
    {
      "cell_type": "markdown",
      "metadata": {
        "id": "vjh2rYOPJUAZ",
        "colab_type": "text"
      },
      "source": [
        "# Custom Network\n",
        "\n",
        "A fully-connected ReLU network with one hidden layer and no biases, trained to predict y from x by minimizing squared Euclidean distance.\n",
        "\n",
        "This implementation uses PyTorch tensors to manually compute the forward pass, loss, and backward pass.\n",
        "\n",
        "A PyTorch Tensor is basically the same as a numpy array: it does not know anything about deep learning or computational graphs or gradients, and is just a generic n-dimensional array to be used for arbitrary numeric computation.\n",
        "\n",
        "The biggest difference between a numpy array and a PyTorch Tensor is that a PyTorch Tensor can run on either CPU or GPU. To run operations on the GPU, just cast the Tensor to a cuda datatype."
      ]
    },
    {
      "cell_type": "code",
      "metadata": {
        "id": "0nf5RaB104Vp",
        "colab_type": "code",
        "outputId": "e2e1688f-49fb-4bc1-a2a1-99bf393b87eb",
        "colab": {
          "base_uri": "https://localhost:8080/",
          "height": 1000
        }
      },
      "source": [
        "dtype = torch.float\n",
        "device = torch.device(\"cpu\")\n",
        "# device = torch.device(\"cuda:0\") # Uncomment this to run on GPU\n",
        "\n",
        "# N is batch size; D_in is input dimension;\n",
        "# H is hidden dimension; D_out is output dimension.\n",
        "N, D_in, H, D_out = 64, 1000, 100, 10\n",
        "\n",
        "# Create random input and output data\n",
        "x = torch.randn(N, D_in, device=device, dtype=dtype)\n",
        "y = torch.randn(N, D_out, device=device, dtype=dtype)\n",
        "\n",
        "# Randomly initialize weights\n",
        "w1 = torch.randn(D_in, H, device=device, dtype=dtype)\n",
        "w2 = torch.randn(H, D_out, device=device, dtype=dtype)\n",
        "\n",
        "learning_rate = 1e-6\n",
        "for t in range(500):\n",
        "    # Forward pass: compute predicted y\n",
        "    h = x.mm(w1)\n",
        "    h_relu = h.clamp(min=0)\n",
        "    y_pred = h_relu.mm(w2)\n",
        "\n",
        "    # Compute and print loss\n",
        "    loss = (y_pred - y).pow(2).sum().item()\n",
        "    print(t, loss)\n",
        "\n",
        "    # Backprop to compute gradients of w1 and w2 with respect to loss\n",
        "    grad_y_pred = 2*(y_pred - y)\n",
        "    grad_w2 = h_relu.t().mm(grad_y_pred)\n",
        "    grad_h_relu = grad_y_pred.mm(w2.t())\n",
        "    grad_h = grad_h_relu.clone()\n",
        "    grad_h[h < 0] = 0\n",
        "    grad_h_relu[h < 0] = 0\n",
        "    grad_w1 = x.t().mm(grad_h_relu)\n",
        "\n",
        "    # Update weights using gradient descent\n",
        "    w1 -= learning_rate * grad_w1\n",
        "    w2 -= learning_rate * grad_w2"
      ],
      "execution_count": 0,
      "outputs": [
        {
          "output_type": "stream",
          "text": [
            "0 27818666.0\n",
            "1 21826338.0\n",
            "2 19356052.0\n",
            "3 17713342.0\n",
            "4 15534900.0\n",
            "5 12737260.0\n",
            "6 9574709.0\n",
            "7 6761763.0\n",
            "8 4559550.5\n",
            "9 3044367.75\n",
            "10 2052183.25\n",
            "11 1427463.125\n",
            "12 1031567.125\n",
            "13 777255.8125\n",
            "14 608073.4375\n",
            "15 490791.9375\n",
            "16 405862.6875\n",
            "17 341880.65625\n",
            "18 291897.625\n",
            "19 251800.46875\n",
            "20 218894.921875\n",
            "21 191432.25\n",
            "22 168226.546875\n",
            "23 148431.96875\n",
            "24 131447.34375\n",
            "25 116785.4375\n",
            "26 104059.203125\n",
            "27 92962.609375\n",
            "28 83244.921875\n",
            "29 74705.5859375\n",
            "30 67182.765625\n",
            "31 60530.8828125\n",
            "32 54636.671875\n",
            "33 49402.73828125\n",
            "34 44744.35546875\n",
            "35 40585.3515625\n",
            "36 36866.6484375\n",
            "37 33534.609375\n",
            "38 30544.85546875\n",
            "39 27856.546875\n",
            "40 25436.38671875\n",
            "41 23256.974609375\n",
            "42 21288.35546875\n",
            "43 19507.375\n",
            "44 17893.7109375\n",
            "45 16429.078125\n",
            "46 15098.927734375\n",
            "47 13888.91796875\n",
            "48 12787.421875\n",
            "49 11782.6669921875\n",
            "50 10865.6591796875\n",
            "51 10027.53515625\n",
            "52 9261.3271484375\n",
            "53 8560.322265625\n",
            "54 7917.9150390625\n",
            "55 7328.44287109375\n",
            "56 6787.1611328125\n",
            "57 6289.78466796875\n",
            "58 5832.6083984375\n",
            "59 5411.93408203125\n",
            "60 5024.30810546875\n",
            "61 4666.8828125\n",
            "62 4337.1357421875\n",
            "63 4032.898681640625\n",
            "64 3751.967041015625\n",
            "65 3492.045166015625\n",
            "66 3251.98779296875\n",
            "67 3029.89306640625\n",
            "68 2824.15283203125\n",
            "69 2633.525146484375\n",
            "70 2456.80029296875\n",
            "71 2292.916748046875\n",
            "72 2140.734375\n",
            "73 1999.357666015625\n",
            "74 1868.0201416015625\n",
            "75 1745.956298828125\n",
            "76 1632.4249267578125\n",
            "77 1526.8427734375\n",
            "78 1428.477294921875\n",
            "79 1336.896484375\n",
            "80 1251.587890625\n",
            "81 1172.073486328125\n",
            "82 1097.992919921875\n",
            "83 1028.859130859375\n",
            "84 964.3659057617188\n",
            "85 904.156982421875\n",
            "86 847.9173583984375\n",
            "87 795.3919677734375\n",
            "88 746.2904663085938\n",
            "89 700.4086303710938\n",
            "90 657.49658203125\n",
            "91 617.3671875\n",
            "92 579.8076782226562\n",
            "93 544.6468505859375\n",
            "94 511.73419189453125\n",
            "95 480.9147644042969\n",
            "96 452.02978515625\n",
            "97 424.9540710449219\n",
            "98 399.5775451660156\n",
            "99 375.7830810546875\n",
            "100 353.4787292480469\n",
            "101 332.5516662597656\n",
            "102 312.92572021484375\n",
            "103 294.5095520019531\n",
            "104 277.2163391113281\n",
            "105 260.9779968261719\n",
            "106 245.7346954345703\n",
            "107 231.4190216064453\n",
            "108 217.96600341796875\n",
            "109 205.3248291015625\n",
            "110 193.4458770751953\n",
            "111 182.2875518798828\n",
            "112 171.79052734375\n",
            "113 161.91989135742188\n",
            "114 152.63818359375\n",
            "115 143.90240478515625\n",
            "116 135.6852569580078\n",
            "117 127.95568084716797\n",
            "118 120.6791000366211\n",
            "119 113.83113098144531\n",
            "120 107.38220977783203\n",
            "121 101.3084945678711\n",
            "122 95.59346771240234\n",
            "123 90.20846557617188\n",
            "124 85.13833618164062\n",
            "125 80.35862731933594\n",
            "126 75.8528060913086\n",
            "127 71.60997772216797\n",
            "128 67.60973358154297\n",
            "129 63.83876037597656\n",
            "130 60.28308868408203\n",
            "131 56.9292106628418\n",
            "132 53.769046783447266\n",
            "133 50.78733825683594\n",
            "134 47.97423553466797\n",
            "135 45.320491790771484\n",
            "136 42.819114685058594\n",
            "137 40.46030807495117\n",
            "138 38.23171615600586\n",
            "139 36.128883361816406\n",
            "140 34.14399719238281\n",
            "141 32.27052688598633\n",
            "142 30.50282859802246\n",
            "143 28.833463668823242\n",
            "144 27.257265090942383\n",
            "145 25.768625259399414\n",
            "146 24.363386154174805\n",
            "147 23.036285400390625\n",
            "148 21.781906127929688\n",
            "149 20.598052978515625\n",
            "150 19.478042602539062\n",
            "151 18.42178726196289\n",
            "152 17.42306137084961\n",
            "153 16.479394912719727\n",
            "154 15.587510108947754\n",
            "155 14.745064735412598\n",
            "156 13.948548316955566\n",
            "157 13.195979118347168\n",
            "158 12.48507022857666\n",
            "159 11.812398910522461\n",
            "160 11.176776885986328\n",
            "161 10.575799942016602\n",
            "162 10.007318496704102\n",
            "163 9.470012664794922\n",
            "164 8.961828231811523\n",
            "165 8.481260299682617\n",
            "166 8.027066230773926\n",
            "167 7.597582817077637\n",
            "168 7.191204071044922\n",
            "169 6.807062149047852\n",
            "170 6.443080902099609\n",
            "171 6.0995774269104\n",
            "172 5.774292469024658\n",
            "173 5.4665093421936035\n",
            "174 5.175572872161865\n",
            "175 4.900417804718018\n",
            "176 4.639641284942627\n",
            "177 4.393100738525391\n",
            "178 4.1595587730407715\n",
            "179 3.938516616821289\n",
            "180 3.7295758724212646\n",
            "181 3.531874418258667\n",
            "182 3.344923496246338\n",
            "183 3.167705535888672\n",
            "184 2.9999167919158936\n",
            "185 2.8411083221435547\n",
            "186 2.6908440589904785\n",
            "187 2.548616409301758\n",
            "188 2.4141905307769775\n",
            "189 2.2866435050964355\n",
            "190 2.1658973693847656\n",
            "191 2.0516834259033203\n",
            "192 1.9434938430786133\n",
            "193 1.8410242795944214\n",
            "194 1.744102120399475\n",
            "195 1.6521844863891602\n",
            "196 1.5651373863220215\n",
            "197 1.4828897714614868\n",
            "198 1.4048447608947754\n",
            "199 1.331099271774292\n",
            "200 1.2612428665161133\n",
            "201 1.194861888885498\n",
            "202 1.132145881652832\n",
            "203 1.0727639198303223\n",
            "204 1.0165143013000488\n",
            "205 0.9632779359817505\n",
            "206 0.9126571416854858\n",
            "207 0.8649839162826538\n",
            "208 0.819608747959137\n",
            "209 0.776713490486145\n",
            "210 0.7361165881156921\n",
            "211 0.6975268125534058\n",
            "212 0.6612092852592468\n",
            "213 0.6264442801475525\n",
            "214 0.5937885046005249\n",
            "215 0.5627316236495972\n",
            "216 0.5333472490310669\n",
            "217 0.5055290460586548\n",
            "218 0.4791606068611145\n",
            "219 0.4541161060333252\n",
            "220 0.4304726719856262\n",
            "221 0.40809181332588196\n",
            "222 0.38678544759750366\n",
            "223 0.36662018299102783\n",
            "224 0.34754711389541626\n",
            "225 0.3294195532798767\n",
            "226 0.31223946809768677\n",
            "227 0.295981764793396\n",
            "228 0.2806326150894165\n",
            "229 0.2660371959209442\n",
            "230 0.25217270851135254\n",
            "231 0.2390621304512024\n",
            "232 0.22666847705841064\n",
            "233 0.21491162478923798\n",
            "234 0.20373132824897766\n",
            "235 0.19311296939849854\n",
            "236 0.183098703622818\n",
            "237 0.1735861897468567\n",
            "238 0.16460835933685303\n",
            "239 0.15602776408195496\n",
            "240 0.14795853197574615\n",
            "241 0.14028319716453552\n",
            "242 0.13299372792243958\n",
            "243 0.126125767827034\n",
            "244 0.11957690119743347\n",
            "245 0.11337229609489441\n",
            "246 0.10752195119857788\n",
            "247 0.10195942223072052\n",
            "248 0.09667584300041199\n",
            "249 0.09167411178350449\n",
            "250 0.08689115196466446\n",
            "251 0.0824035257101059\n",
            "252 0.07816216349601746\n",
            "253 0.07412444055080414\n",
            "254 0.0702638253569603\n",
            "255 0.06664367765188217\n",
            "256 0.06318769603967667\n",
            "257 0.05995575338602066\n",
            "258 0.05686727911233902\n",
            "259 0.05392880737781525\n",
            "260 0.05113569647073746\n",
            "261 0.04850534349679947\n",
            "262 0.045976605266332626\n",
            "263 0.04362004995346069\n",
            "264 0.04136575385928154\n",
            "265 0.03924548253417015\n",
            "266 0.03721241652965546\n",
            "267 0.03529544547200203\n",
            "268 0.0334867388010025\n",
            "269 0.03178541362285614\n",
            "270 0.030141722410917282\n",
            "271 0.028580935671925545\n",
            "272 0.027128443121910095\n",
            "273 0.025724492967128754\n",
            "274 0.024407491087913513\n",
            "275 0.023152712732553482\n",
            "276 0.021970316767692566\n",
            "277 0.020837606862187386\n",
            "278 0.019777894020080566\n",
            "279 0.018770210444927216\n",
            "280 0.017813678830862045\n",
            "281 0.01689719781279564\n",
            "282 0.016039762645959854\n",
            "283 0.015216544270515442\n",
            "284 0.014445353299379349\n",
            "285 0.013710256665945053\n",
            "286 0.013001627288758755\n",
            "287 0.012338078580796719\n",
            "288 0.011729886755347252\n",
            "289 0.011127056553959846\n",
            "290 0.010568815283477306\n",
            "291 0.010045959614217281\n",
            "292 0.009535283781588078\n",
            "293 0.009063709527254105\n",
            "294 0.008605977520346642\n",
            "295 0.008175037801265717\n",
            "296 0.007768391631543636\n",
            "297 0.00738474540412426\n",
            "298 0.007017343305051327\n",
            "299 0.006673813331872225\n",
            "300 0.00633861031383276\n",
            "301 0.0060304636135697365\n",
            "302 0.0057284217327833176\n",
            "303 0.005450596567243338\n",
            "304 0.005185292102396488\n",
            "305 0.004931294359266758\n",
            "306 0.00468990346416831\n",
            "307 0.004465478006750345\n",
            "308 0.004245217889547348\n",
            "309 0.0040391553193330765\n",
            "310 0.0038442672230303288\n",
            "311 0.003663133131340146\n",
            "312 0.003494101809337735\n",
            "313 0.003328186459839344\n",
            "314 0.0031697149388492107\n",
            "315 0.003024607663974166\n",
            "316 0.002880377694964409\n",
            "317 0.002748603466898203\n",
            "318 0.0026261364109814167\n",
            "319 0.0025037832092493773\n",
            "320 0.0023872333113104105\n",
            "321 0.002278536092489958\n",
            "322 0.002175879431888461\n",
            "323 0.002081523882225156\n",
            "324 0.001991265919059515\n",
            "325 0.001902691088616848\n",
            "326 0.0018200852209702134\n",
            "327 0.0017371145077049732\n",
            "328 0.0016654353821650147\n",
            "329 0.0015929571818560362\n",
            "330 0.0015208314871415496\n",
            "331 0.0014585480093955994\n",
            "332 0.0013973067980259657\n",
            "333 0.0013392127584666014\n",
            "334 0.0012859436683356762\n",
            "335 0.0012309703743085265\n",
            "336 0.0011791227152571082\n",
            "337 0.001135081285610795\n",
            "338 0.0010913253063336015\n",
            "339 0.001047530327923596\n",
            "340 0.0010094300378113985\n",
            "341 0.0009701497619971633\n",
            "342 0.0009326641447842121\n",
            "343 0.0008964895969256759\n",
            "344 0.0008631731034256518\n",
            "345 0.0008300253539346159\n",
            "346 0.0007995602209120989\n",
            "347 0.0007695285021327436\n",
            "348 0.0007428210810758173\n",
            "349 0.0007168746669776738\n",
            "350 0.0006888429052196443\n",
            "351 0.0006665705586783588\n",
            "352 0.0006421093130484223\n",
            "353 0.0006200275965966284\n",
            "354 0.0005985437310300767\n",
            "355 0.0005773323937319219\n",
            "356 0.0005572647787630558\n",
            "357 0.0005382559029385448\n",
            "358 0.0005198352737352252\n",
            "359 0.0005027395091019571\n",
            "360 0.0004862982896156609\n",
            "361 0.0004714323440566659\n",
            "362 0.00045624293852597475\n",
            "363 0.00044215089292265475\n",
            "364 0.0004293563833925873\n",
            "365 0.0004161584365647286\n",
            "366 0.00040301866829395294\n",
            "367 0.0003897868446074426\n",
            "368 0.0003780036640819162\n",
            "369 0.0003658807254396379\n",
            "370 0.0003557837044354528\n",
            "371 0.0003444572212174535\n",
            "372 0.0003346162266097963\n",
            "373 0.00032580693368799984\n",
            "374 0.0003159063053317368\n",
            "375 0.0003068785008508712\n",
            "376 0.0002981138532049954\n",
            "377 0.00028907222440466285\n",
            "378 0.00028067745734006166\n",
            "379 0.0002735290036071092\n",
            "380 0.0002665440260898322\n",
            "381 0.0002596221165731549\n",
            "382 0.00025305955205112696\n",
            "383 0.00024595108698122203\n",
            "384 0.00023941425024531782\n",
            "385 0.0002338807680644095\n",
            "386 0.00022763175365980715\n",
            "387 0.00022153282770887017\n",
            "388 0.00021605382789857686\n",
            "389 0.0002102307480527088\n",
            "390 0.00020471739117056131\n",
            "391 0.00019992874877061695\n",
            "392 0.0001949167053680867\n",
            "393 0.00018963923503179103\n",
            "394 0.00018539369921199977\n",
            "395 0.00018029969942290336\n",
            "396 0.00017610634677112103\n",
            "397 0.00017234445840585977\n",
            "398 0.00016803578182589263\n",
            "399 0.0001641058479435742\n",
            "400 0.0001603512791916728\n",
            "401 0.0001565331913297996\n",
            "402 0.00015284193796105683\n",
            "403 0.00014968463801778853\n",
            "404 0.0001464030792703852\n",
            "405 0.00014342617942020297\n",
            "406 0.00013967214908916503\n",
            "407 0.00013685216254089028\n",
            "408 0.00013387536455411464\n",
            "409 0.00013136121560819447\n",
            "410 0.00012825839803554118\n",
            "411 0.0001262653386220336\n",
            "412 0.0001231721107615158\n",
            "413 0.00012070792581653222\n",
            "414 0.00011815479956567287\n",
            "415 0.00011572401854209602\n",
            "416 0.00011350557906553149\n",
            "417 0.00011110166815342382\n",
            "418 0.00010873096471186727\n",
            "419 0.00010638843377819285\n",
            "420 0.00010407276568002999\n",
            "421 0.00010214581561740488\n",
            "422 0.00010023840877693146\n",
            "423 9.863542072707787e-05\n",
            "424 9.668965503806248e-05\n",
            "425 9.494540427112952e-05\n",
            "426 9.273402974940836e-05\n",
            "427 9.188102558255196e-05\n",
            "428 9.006610343931243e-05\n",
            "429 8.805857942206785e-05\n",
            "430 8.63815366756171e-05\n",
            "431 8.485591388307512e-05\n",
            "432 8.375322067877278e-05\n",
            "433 8.221875759772956e-05\n",
            "434 8.067097223829478e-05\n",
            "435 7.919440395198762e-05\n",
            "436 7.799150625942275e-05\n",
            "437 7.630628533661366e-05\n",
            "438 7.496302714571357e-05\n",
            "439 7.387746154563501e-05\n",
            "440 7.268396439030766e-05\n",
            "441 7.120655936887488e-05\n",
            "442 7.008633110672235e-05\n",
            "443 6.895647675264627e-05\n",
            "444 6.807664613006637e-05\n",
            "445 6.689819565508515e-05\n",
            "446 6.56966440146789e-05\n",
            "447 6.440073775593191e-05\n",
            "448 6.388249312294647e-05\n",
            "449 6.289777957135811e-05\n",
            "450 6.16923498455435e-05\n",
            "451 6.103759369580075e-05\n",
            "452 5.997943662805483e-05\n",
            "453 5.9254354709992185e-05\n",
            "454 5.841602978762239e-05\n",
            "455 5.732458521379158e-05\n",
            "456 5.662050534738228e-05\n",
            "457 5.568716733250767e-05\n",
            "458 5.475685975397937e-05\n",
            "459 5.416479689301923e-05\n",
            "460 5.342999429558404e-05\n",
            "461 5.2613635489251465e-05\n",
            "462 5.20381800015457e-05\n",
            "463 5.1392791647231206e-05\n",
            "464 5.048024104326032e-05\n",
            "465 4.9616362957749516e-05\n",
            "466 4.87640718347393e-05\n",
            "467 4.803537740372121e-05\n",
            "468 4.7310804802691564e-05\n",
            "469 4.677681135945022e-05\n",
            "470 4.65020930278115e-05\n",
            "471 4.5843873522244394e-05\n",
            "472 4.5282205974217504e-05\n",
            "473 4.473958688322455e-05\n",
            "474 4.400997931952588e-05\n",
            "475 4.351001189206727e-05\n",
            "476 4.2933424992952496e-05\n",
            "477 4.216108573018573e-05\n",
            "478 4.15804679505527e-05\n",
            "479 4.100770820514299e-05\n",
            "480 4.037432881887071e-05\n",
            "481 3.993475183960982e-05\n",
            "482 3.976267180405557e-05\n",
            "483 3.907556310878135e-05\n",
            "484 3.8555546780116856e-05\n",
            "485 3.7904566852375865e-05\n",
            "486 3.746840957319364e-05\n",
            "487 3.727211515069939e-05\n",
            "488 3.671570084406994e-05\n",
            "489 3.6281897337175906e-05\n",
            "490 3.6026540328748524e-05\n",
            "491 3.554582144715823e-05\n",
            "492 3.5137436498189345e-05\n",
            "493 3.468761497060768e-05\n",
            "494 3.426578768994659e-05\n",
            "495 3.404750896152109e-05\n",
            "496 3.371261482243426e-05\n",
            "497 3.337107045808807e-05\n",
            "498 3.2921176170930266e-05\n",
            "499 3.2512394682271406e-05\n"
          ],
          "name": "stdout"
        }
      ]
    },
    {
      "cell_type": "markdown",
      "metadata": {
        "id": "ycwxAPHZLNST",
        "colab_type": "text"
      },
      "source": [
        "\n",
        "\n",
        "---\n",
        "## Question 12\n",
        "\n",
        "In the code above, why do we have 2 in '2.0*(y_pred - y)`?\n",
        "\n",
        "Answer: differentaiton of x square is 2x, as loss function has the power of 2\n",
        "\n",
        "## Question 13\n",
        "In the code above, what does `grad_h[h < 0] = 0` signify?\n",
        "\n",
        "\n",
        "As relu switches  only for positive values, making negative values as zeros \n",
        "## Question 14\n",
        "In the code above, how many \"epochs\" have we trained the model for? \n",
        "\n",
        "\n",
        "1 epoch 500 iterations\n",
        "## Question 15\n",
        "In the code above, if we take the trained model, and run it on fresh  inputs, the trained model will be able to predict fresh output with high accuracy. \n",
        "\n",
        "**No the loss function convergesd to minima and increased back.**\n",
        "## Question 16\n",
        "In the code above, if we dont use clone in `grad_h = grad_h_relu.clone()` the model will still train without any issues. \n",
        "\n",
        "It will train without any issues, but since we dont have any clone there cant be any look back of values during back propagation it will overwrite according to my understanding\n",
        "\n"
      ]
    },
    {
      "cell_type": "code",
      "metadata": {
        "id": "PnJ49I07JJI6",
        "colab_type": "code",
        "colab": {}
      },
      "source": [
        ""
      ],
      "execution_count": 0,
      "outputs": []
    }
  ]
}