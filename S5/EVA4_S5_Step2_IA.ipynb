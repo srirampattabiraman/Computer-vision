{
  "nbformat": 4,
  "nbformat_minor": 0,
  "metadata": {
    "colab": {
      "name": "EVA4_S5_Step2_IA.ipynb",
      "provenance": [],
      "include_colab_link": true
    },
    "kernelspec": {
      "name": "python3",
      "display_name": "Python 3"
    },
    "accelerator": "GPU"
  },
  "cells": [
    {
      "cell_type": "markdown",
      "metadata": {
        "id": "view-in-github",
        "colab_type": "text"
      },
      "source": [
        "<a href=\"https://colab.research.google.com/github/srirampattabiraman/Computer-vision/blob/master/S5/EVA4_S5_Step2_IA.ipynb\" target=\"_parent\"><img src=\"https://colab.research.google.com/assets/colab-badge.svg\" alt=\"Open In Colab\"/></a>"
      ]
    },
    {
      "cell_type": "markdown",
      "metadata": {
        "id": "O6FzNiGSW7KB",
        "colab_type": "text"
      },
      "source": [
        "### Target :\n",
        "\n",
        "- Fix on the base model to increase its accuracy\n",
        "- Model will run exactly 15 Epochs\n",
        "\n",
        "### Result : - Total params: 9,840\n",
        "\n",
        "\n",
        "### Analysis : \n",
        "\n",
        "- Using Base model.\n",
        "- Introduced Image augumentation\n",
        "- Changed the Input & Output channels and Kernal size + Batch Normalisation & Dropouts\n",
        "- Max Accuracy > 99.4 only once within 15 epochs\n",
        "- Parameters are reduced to <10K\n",
        "\n",
        "### Action :\n",
        "- Need more tuning"
      ]
    },
    {
      "cell_type": "code",
      "metadata": {
        "id": "p8ttDXOdXY2n",
        "colab_type": "code",
        "colab": {}
      },
      "source": [
        "### Model Spec\n"
      ],
      "execution_count": 0,
      "outputs": []
    },
    {
      "cell_type": "code",
      "metadata": {
        "id": "NkBUTOtLWgDQ",
        "colab_type": "code",
        "colab": {}
      },
      "source": [
        "## Importing the Libraries \n",
        "\n",
        "from __future__ import print_function\n",
        "import torch\n",
        "import torch.nn as nn\n",
        "import torch.nn.functional as F\n",
        "import torch.optim as optim\n",
        "from torchvision import datasets, transforms"
      ],
      "execution_count": 0,
      "outputs": []
    },
    {
      "cell_type": "code",
      "metadata": {
        "id": "pFBPQK0dsRXJ",
        "colab_type": "code",
        "colab": {}
      },
      "source": [
        "## Transformation\n",
        "\n",
        "# Train Phase transformations\n",
        "train_transforms = transforms.Compose([\n",
        "                                      #  transforms.Resize((28, 28)),\n",
        "                                      #  transforms.ColorJitter(brightness=0.10, contrast=0.1, saturation=0.10, hue=0.1),\n",
        "                                       transforms.RandomRotation((-7.0, 7.0), fill=(1,)),\n",
        "                                       transforms.ToTensor(),\n",
        "                                       transforms.Normalize((0.1307,), (0.3081,)) # The mean and std have to be sequences (e.g., tuples), therefore you should add a comma after the values. \n",
        "                                       # Note the difference between (0.1307) and (0.1307,)\n",
        "                                       ])\n",
        "\n",
        "# Test Phase transformations\n",
        "test_transforms = transforms.Compose([\n",
        "                                      #  transforms.Resize((28, 28)),\n",
        "                                      #  transforms.ColorJitter(brightness=0.10, contrast=0.1, saturation=0.10, hue=0.1),\n",
        "                                       transforms.ToTensor(),\n",
        "                                       transforms.Normalize((0.1307,), (0.3081,))\n",
        "                                       ])"
      ],
      "execution_count": 0,
      "outputs": []
    },
    {
      "cell_type": "code",
      "metadata": {
        "id": "qoyXb8n8Xfsi",
        "colab_type": "code",
        "colab": {}
      },
      "source": [
        "## Data Set - trian test split \n",
        "\n",
        "train = datasets.MNIST('./data', train=True, download=True, transform=train_transforms)\n",
        "test = datasets.MNIST('./data', train=False, download=True, transform=test_transforms)"
      ],
      "execution_count": 0,
      "outputs": []
    },
    {
      "cell_type": "code",
      "metadata": {
        "id": "uJXpHv28X1eH",
        "colab_type": "code",
        "outputId": "c6306e6e-6497-4045-a50b-cf19dea7c263",
        "colab": {
          "base_uri": "https://localhost:8080/",
          "height": 34
        }
      },
      "source": [
        "## Data Loader arguments : Train Test arguments \n",
        "\n",
        "SEED = 1\n",
        "\n",
        "# CUDA?\n",
        "cuda = torch.cuda.is_available()\n",
        "print(\"CUDA Available?\", cuda)\n",
        "\n",
        "# For reproducibility\n",
        "torch.manual_seed(SEED)\n",
        "\n",
        "if cuda:\n",
        "    torch.cuda.manual_seed(SEED)\n",
        "\n",
        "# dataloader arguments - something you'll fetch these from cmdprmt\n",
        "dataloader_args = dict(shuffle=True, batch_size=128, num_workers=4, pin_memory=True) if cuda else dict(shuffle=True, batch_size=64)\n",
        "\n",
        "# train dataloader\n",
        "train_loader = torch.utils.data.DataLoader(train, **dataloader_args)\n",
        "\n",
        "# test dataloader\n",
        "test_loader = torch.utils.data.DataLoader(test, **dataloader_args)"
      ],
      "execution_count": 4,
      "outputs": [
        {
          "output_type": "stream",
          "text": [
            "CUDA Available? True\n"
          ],
          "name": "stdout"
        }
      ]
    },
    {
      "cell_type": "code",
      "metadata": {
        "id": "yuj3pC3BYJsJ",
        "colab_type": "code",
        "outputId": "4d56bd43-1a01-4f7b-9981-d58d00d0beed",
        "colab": {
          "base_uri": "https://localhost:8080/",
          "height": 54
        }
      },
      "source": [
        "## Data Statistics \n",
        "\n",
        "# We'd need to convert it into Numpy! Remember above we have converted it into tensors already\n",
        "'''train_data = train.train_data\n",
        "train_data = train.transform(train_data.numpy())\n",
        "\n",
        "print('[Train]')\n",
        "print(' - Numpy Shape:', train.train_data.cpu().numpy().shape)\n",
        "print(' - Tensor Shape:', train.train_data.size())\n",
        "print(' - min:', torch.min(train_data))\n",
        "print(' - max:', torch.max(train_data))\n",
        "print(' - mean:', torch.mean(train_data))\n",
        "print(' - std:', torch.std(train_data))\n",
        "print(' - var:', torch.var(train_data))\n",
        "\n",
        "dataiter = iter(train_loader)\n",
        "images, labels = dataiter.next()\n",
        "\n",
        "print(images.shape)\n",
        "print(labels.shape)\n",
        "\n",
        "# Let's visualize some of the images\n",
        "%matplotlib inline\n",
        "import matplotlib.pyplot as plt\n",
        "\n",
        "plt.imshow(images[0].numpy().squeeze(), cmap='gray_r')'''"
      ],
      "execution_count": 5,
      "outputs": [
        {
          "output_type": "execute_result",
          "data": {
            "text/plain": [
              "\"train_data = train.train_data\\ntrain_data = train.transform(train_data.numpy())\\n\\nprint('[Train]')\\nprint(' - Numpy Shape:', train.train_data.cpu().numpy().shape)\\nprint(' - Tensor Shape:', train.train_data.size())\\nprint(' - min:', torch.min(train_data))\\nprint(' - max:', torch.max(train_data))\\nprint(' - mean:', torch.mean(train_data))\\nprint(' - std:', torch.std(train_data))\\nprint(' - var:', torch.var(train_data))\\n\\ndataiter = iter(train_loader)\\nimages, labels = dataiter.next()\\n\\nprint(images.shape)\\nprint(labels.shape)\\n\\n# Let's visualize some of the images\\n%matplotlib inline\\nimport matplotlib.pyplot as plt\\n\\nplt.imshow(images[0].numpy().squeeze(), cmap='gray_r')\""
            ]
          },
          "metadata": {
            "tags": []
          },
          "execution_count": 5
        }
      ]
    },
    {
      "cell_type": "code",
      "metadata": {
        "id": "AQeJUOI8YSqM",
        "colab_type": "code",
        "outputId": "47e5cfb9-2abf-4eb3-ddc1-6b4492095163",
        "colab": {
          "base_uri": "https://localhost:8080/",
          "height": 54
        }
      },
      "source": [
        "## View more images to know more images : Can give idea for transformation \n",
        "\n",
        "'''figure = plt.figure()\n",
        "num_of_images = 60\n",
        "for index in range(1, num_of_images + 1):\n",
        "    plt.subplot(6, 10, index)\n",
        "    plt.axis('off')\n",
        "    plt.imshow(images[index].numpy().squeeze(), cmap='gray_r')'''"
      ],
      "execution_count": 6,
      "outputs": [
        {
          "output_type": "execute_result",
          "data": {
            "text/plain": [
              "\"figure = plt.figure()\\nnum_of_images = 60\\nfor index in range(1, num_of_images + 1):\\n    plt.subplot(6, 10, index)\\n    plt.axis('off')\\n    plt.imshow(images[index].numpy().squeeze(), cmap='gray_r')\""
            ]
          },
          "metadata": {
            "tags": []
          },
          "execution_count": 6
        }
      ]
    },
    {
      "cell_type": "code",
      "metadata": {
        "id": "ocFvV0_MYcAT",
        "colab_type": "code",
        "outputId": "0bdac0b2-ee15-4a6c-bd07-3de3ebd21c09",
        "colab": {
          "base_uri": "https://localhost:8080/",
          "height": 187
        }
      },
      "source": [
        "## How we got the mean and standard deviaion values \n",
        "\n",
        "# simple transform\n",
        "simple_transforms = transforms.Compose([\n",
        "                                      #  transforms.Resize((28, 28)),\n",
        "                                      #  transforms.ColorJitter(brightness=0.10, contrast=0.1, saturation=0.10, hue=0.1),\n",
        "                                       transforms.ToTensor(),\n",
        "                                      #  transforms.Normalize((0.1307,), (0.3081,)) # The mean and std have to be sequences (e.g., tuples), therefore you should add a comma after the values. \n",
        "                                       # Note the difference between (0.1307) and (0.1307,)\n",
        "                                       ])\n",
        "exp = datasets.MNIST('./data', train=True, download=True, transform=simple_transforms)\n",
        "exp_data = exp.train_data\n",
        "exp_data = exp.transform(exp_data.numpy())\n",
        "\n",
        "print('[Train]')\n",
        "print(' - Numpy Shape:', exp.train_data.cpu().numpy().shape)\n",
        "print(' - Tensor Shape:', exp.train_data.size())\n",
        "print(' - min:', torch.min(exp_data))\n",
        "print(' - max:', torch.max(exp_data))\n",
        "print(' - mean:', torch.mean(exp_data))\n",
        "print(' - std:', torch.std(exp_data))\n",
        "print(' - var:', torch.var(exp_data))"
      ],
      "execution_count": 5,
      "outputs": [
        {
          "output_type": "stream",
          "text": [
            "/usr/local/lib/python3.6/dist-packages/torchvision/datasets/mnist.py:55: UserWarning: train_data has been renamed data\n",
            "  warnings.warn(\"train_data has been renamed data\")\n"
          ],
          "name": "stderr"
        },
        {
          "output_type": "stream",
          "text": [
            "[Train]\n",
            " - Numpy Shape: (60000, 28, 28)\n",
            " - Tensor Shape: torch.Size([60000, 28, 28])\n",
            " - min: tensor(0.)\n",
            " - max: tensor(1.)\n",
            " - mean: tensor(0.1305)\n",
            " - std: tensor(0.3081)\n",
            " - var: tensor(0.0949)\n"
          ],
          "name": "stdout"
        }
      ]
    },
    {
      "cell_type": "code",
      "metadata": {
        "id": "g4un1E0qdyz1",
        "colab_type": "code",
        "colab": {}
      },
      "source": [
        "class Net(nn.Module):\n",
        "  def __init__(self):\n",
        "    super(Net,self).__init__()\n",
        "    self.conv1 = nn.Sequential(\n",
        "                                nn.Conv2d(in_channels=1,out_channels=10,kernel_size=(3, 3), padding=0, bias=False),\n",
        "                                nn.ReLU(),\n",
        "                                nn.BatchNorm2d(10),\n",
        "                                nn.Dropout2d(0.05),\n",
        "                                # output_size = 26\n",
        "                                nn.Conv2d(in_channels=10,out_channels=20,kernel_size=(3, 3), padding=0, bias=False),\n",
        "                                nn.ReLU(),\n",
        "                                nn.BatchNorm2d(20),\n",
        "                                nn.Dropout2d(0.05),\n",
        "                                # output_size = 24\n",
        "                                nn.Conv2d(in_channels=20,out_channels=16,kernel_size=(1, 1), padding=0, bias=False),\n",
        "                                nn.ReLU(),\n",
        "                                nn.MaxPool2d(2,2)\n",
        "                                # output_size = 12\n",
        "                                )\n",
        "\n",
        "    self.conv2 = nn.Sequential(\n",
        "                                nn.Conv2d(in_channels=16,out_channels=16,kernel_size=(3, 3), padding=0, bias=False),\n",
        "                                nn.ReLU(),\n",
        "                                nn.BatchNorm2d(16),\n",
        "                                nn.Dropout2d(0.05),\n",
        "                                # output_size = 10\n",
        "                                nn.Conv2d(in_channels=16,out_channels=20,kernel_size=(3, 3), padding=0, bias=False),\n",
        "                                nn.ReLU(),\n",
        "                                nn.BatchNorm2d(20),\n",
        "                                nn.Dropout2d(0.05),\n",
        "                                # output_size = 8\n",
        "                                nn.Conv2d(in_channels=20,out_channels=12,kernel_size=(3, 3), padding=0, bias=False),\n",
        "                                nn.ReLU(),\n",
        "                                nn.BatchNorm2d(12),\n",
        "                                nn.Dropout2d(0.05),\n",
        "                                # output_size = 6\n",
        "                                )\n",
        "    self.gap = nn.Sequential(\n",
        "                                nn.AvgPool2d(kernel_size=6)\n",
        "                                )\n",
        "                                #output_size = 1\n",
        "    \n",
        "    self.conv4 = nn.Sequential(\n",
        "                                nn.Conv2d(12,10,1),nn.ReLU()\n",
        "                                \n",
        "                                )\n",
        "\n",
        "## Batchnorm () - Comment\n",
        "\n",
        "  def forward(self,x):\n",
        "    x = self.conv1(x)\n",
        "    x = self.conv2(x)\n",
        "    #x = self.conv3(x)\n",
        "    x = self.gap(x)\n",
        "    x = self.conv4(x)\n",
        "    x = x.view(-1,10)\n",
        "\n",
        "    return F.log_softmax(x)"
      ],
      "execution_count": 0,
      "outputs": []
    },
    {
      "cell_type": "code",
      "metadata": {
        "id": "xu5jgUHdokxl",
        "colab_type": "code",
        "colab": {}
      },
      "source": [
        "### The Model 9 : CHANGING THE IMAGE AUGMENTATION ### Above code -- Check rotaiton of the images ## ROTATE BEFORE CONERTING TO TENSOR ## We cna do after also, But not after normalisation"
      ],
      "execution_count": 0,
      "outputs": []
    },
    {
      "cell_type": "code",
      "metadata": {
        "id": "Qvh1RgEkpQ8p",
        "colab_type": "code",
        "colab": {}
      },
      "source": [
        "### The Model 10 :: OVER KiLl \n",
        "\n",
        "### Using the LR Scheduler"
      ],
      "execution_count": 0,
      "outputs": []
    },
    {
      "cell_type": "code",
      "metadata": {
        "id": "-5o6DpzJYxsu",
        "colab_type": "code",
        "outputId": "bfe0ac64-a9c7-446a-8d80-f0bb2dc5b06a",
        "colab": {
          "base_uri": "https://localhost:8080/",
          "height": 751
        }
      },
      "source": [
        "## Model Parameters\n",
        "\n",
        "!pip install torchsummary\n",
        "from torchsummary import summary\n",
        "use_cuda = torch.cuda.is_available()\n",
        "device = torch.device(\"cuda\" if use_cuda else \"cpu\")\n",
        "print(device)\n",
        "model = Net().to(device)\n",
        "summary(model, input_size=(1, 28, 28))"
      ],
      "execution_count": 11,
      "outputs": [
        {
          "output_type": "stream",
          "text": [
            "Requirement already satisfied: torchsummary in /usr/local/lib/python3.6/dist-packages (1.5.1)\n",
            "cuda\n",
            "----------------------------------------------------------------\n",
            "        Layer (type)               Output Shape         Param #\n",
            "================================================================\n",
            "            Conv2d-1           [-1, 10, 26, 26]              90\n",
            "              ReLU-2           [-1, 10, 26, 26]               0\n",
            "       BatchNorm2d-3           [-1, 10, 26, 26]              20\n",
            "         Dropout2d-4           [-1, 10, 26, 26]               0\n",
            "            Conv2d-5           [-1, 20, 24, 24]           1,800\n",
            "              ReLU-6           [-1, 20, 24, 24]               0\n",
            "       BatchNorm2d-7           [-1, 20, 24, 24]              40\n",
            "         Dropout2d-8           [-1, 20, 24, 24]               0\n",
            "            Conv2d-9           [-1, 16, 24, 24]             320\n",
            "             ReLU-10           [-1, 16, 24, 24]               0\n",
            "        MaxPool2d-11           [-1, 16, 12, 12]               0\n",
            "           Conv2d-12           [-1, 16, 10, 10]           2,304\n",
            "             ReLU-13           [-1, 16, 10, 10]               0\n",
            "      BatchNorm2d-14           [-1, 16, 10, 10]              32\n",
            "        Dropout2d-15           [-1, 16, 10, 10]               0\n",
            "           Conv2d-16             [-1, 20, 8, 8]           2,880\n",
            "             ReLU-17             [-1, 20, 8, 8]               0\n",
            "      BatchNorm2d-18             [-1, 20, 8, 8]              40\n",
            "        Dropout2d-19             [-1, 20, 8, 8]               0\n",
            "           Conv2d-20             [-1, 12, 6, 6]           2,160\n",
            "             ReLU-21             [-1, 12, 6, 6]               0\n",
            "      BatchNorm2d-22             [-1, 12, 6, 6]              24\n",
            "        Dropout2d-23             [-1, 12, 6, 6]               0\n",
            "        AvgPool2d-24             [-1, 12, 1, 1]               0\n",
            "           Conv2d-25             [-1, 10, 1, 1]             130\n",
            "             ReLU-26             [-1, 10, 1, 1]               0\n",
            "================================================================\n",
            "Total params: 9,840\n",
            "Trainable params: 9,840\n",
            "Non-trainable params: 0\n",
            "----------------------------------------------------------------\n",
            "Input size (MB): 0.00\n",
            "Forward/backward pass size (MB): 0.82\n",
            "Params size (MB): 0.04\n",
            "Estimated Total Size (MB): 0.86\n",
            "----------------------------------------------------------------\n"
          ],
          "name": "stdout"
        },
        {
          "output_type": "stream",
          "text": [
            "/usr/local/lib/python3.6/dist-packages/ipykernel_launcher.py:58: UserWarning: Implicit dimension choice for log_softmax has been deprecated. Change the call to include dim=X as an argument.\n"
          ],
          "name": "stderr"
        }
      ]
    },
    {
      "cell_type": "code",
      "metadata": {
        "id": "HyXKZKquch2c",
        "colab_type": "code",
        "colab": {}
      },
      "source": [
        "### Training & testing \n",
        "\n",
        "from tqdm import tqdm\n",
        "\n",
        "train_losses = []\n",
        "test_losses = []\n",
        "train_acc = []\n",
        "test_acc = []\n",
        "\n",
        "def train(model, device, train_loader, optimizer, epoch):\n",
        "  model.train()\n",
        "  pbar = tqdm(train_loader)\n",
        "  correct = 0\n",
        "  processed = 0\n",
        "  for batch_idx, (data, target) in enumerate(pbar):\n",
        "    # get samples\n",
        "    data, target = data.to(device), target.to(device)\n",
        "\n",
        "    # Init\n",
        "    optimizer.zero_grad()\n",
        "    # In PyTorch, we need to set the gradients to zero before starting to do backpropragation because PyTorch accumulates the gradients on subsequent backward passes. \n",
        "    # Because of this, when you start your training loop, ideally you should zero out the gradients so that you do the parameter update correctly.\n",
        "\n",
        "    # Predict\n",
        "    y_pred = model(data)\n",
        "\n",
        "    # Calculate loss\n",
        "    loss = F.nll_loss(y_pred, target)\n",
        "    train_losses.append(loss)\n",
        "\n",
        "    # Backpropagation\n",
        "    loss.backward()\n",
        "    optimizer.step()\n",
        "\n",
        "    # Update pbar-tqdm\n",
        "    \n",
        "    pred = y_pred.argmax(dim=1, keepdim=True)  # get the index of the max log-probability\n",
        "    correct += pred.eq(target.view_as(pred)).sum().item()\n",
        "    processed += len(data)\n",
        "\n",
        "    pbar.set_description(desc= f'Loss={loss.item()} Batch_id={batch_idx} Accuracy={100*correct/processed:0.2f}')\n",
        "    train_acc.append(100*correct/processed)\n",
        "\n",
        "def test(model, device, test_loader):\n",
        "    model.eval()\n",
        "    test_loss = 0\n",
        "    correct = 0\n",
        "    with torch.no_grad():\n",
        "        for data, target in test_loader:\n",
        "            data, target = data.to(device), target.to(device)\n",
        "            output = model(data)\n",
        "            test_loss += F.nll_loss(output, target, reduction='sum').item()  # sum up batch loss\n",
        "            pred = output.argmax(dim=1, keepdim=True)  # get the index of the max log-probability\n",
        "            correct += pred.eq(target.view_as(pred)).sum().item()\n",
        "\n",
        "    test_loss /= len(test_loader.dataset)\n",
        "    test_losses.append(test_loss)\n",
        "\n",
        "    print('\\nTest set: Average loss: {:.4f}, Accuracy: {}/{} ({:.2f}%)\\n'.format(\n",
        "        test_loss, correct, len(test_loader.dataset),\n",
        "        100. * correct / len(test_loader.dataset)))\n",
        "    \n",
        "    test_acc.append(100. * correct / len(test_loader.dataset))"
      ],
      "execution_count": 0,
      "outputs": []
    },
    {
      "cell_type": "code",
      "metadata": {
        "id": "2KgcBEgFczDX",
        "colab_type": "code",
        "outputId": "95589429-bb2b-45c5-8149-e838fd8fc011",
        "colab": {
          "base_uri": "https://localhost:8080/",
          "height": 1000
        }
      },
      "source": [
        "## Train and test our model \n",
        "\n",
        "model =  Net().to(device)\n",
        "optimizer = optim.SGD(model.parameters(), lr=0.01, momentum=0.95)\n",
        "EPOCHS = 16\n",
        "for epoch in range(EPOCHS):\n",
        "    print(\"EPOCH:\", epoch)\n",
        "    train(model, device, train_loader, optimizer, epoch)\n",
        "    test(model, device, test_loader)"
      ],
      "execution_count": 13,
      "outputs": [
        {
          "output_type": "stream",
          "text": [
            "\r  0%|          | 0/469 [00:00<?, ?it/s]"
          ],
          "name": "stderr"
        },
        {
          "output_type": "stream",
          "text": [
            "EPOCH: 0\n"
          ],
          "name": "stdout"
        },
        {
          "output_type": "stream",
          "text": [
            "/usr/local/lib/python3.6/dist-packages/ipykernel_launcher.py:58: UserWarning: Implicit dimension choice for log_softmax has been deprecated. Change the call to include dim=X as an argument.\n",
            "Loss=0.19915656745433807 Batch_id=468 Accuracy=85.44: 100%|██████████| 469/469 [00:13<00:00, 34.49it/s]\n",
            "  0%|          | 0/469 [00:00<?, ?it/s]"
          ],
          "name": "stderr"
        },
        {
          "output_type": "stream",
          "text": [
            "\n",
            "Test set: Average loss: 0.0609, Accuracy: 9826/10000 (98.26%)\n",
            "\n",
            "EPOCH: 1\n"
          ],
          "name": "stdout"
        },
        {
          "output_type": "stream",
          "text": [
            "Loss=0.07450751215219498 Batch_id=468 Accuracy=96.75: 100%|██████████| 469/469 [00:13<00:00, 35.19it/s]\n",
            "  0%|          | 0/469 [00:00<?, ?it/s]"
          ],
          "name": "stderr"
        },
        {
          "output_type": "stream",
          "text": [
            "\n",
            "Test set: Average loss: 0.0452, Accuracy: 9867/10000 (98.67%)\n",
            "\n",
            "EPOCH: 2\n"
          ],
          "name": "stdout"
        },
        {
          "output_type": "stream",
          "text": [
            "Loss=0.12393132597208023 Batch_id=468 Accuracy=97.36: 100%|██████████| 469/469 [00:12<00:00, 37.15it/s]\n",
            "  0%|          | 0/469 [00:00<?, ?it/s]"
          ],
          "name": "stderr"
        },
        {
          "output_type": "stream",
          "text": [
            "\n",
            "Test set: Average loss: 0.0406, Accuracy: 9873/10000 (98.73%)\n",
            "\n",
            "EPOCH: 3\n"
          ],
          "name": "stdout"
        },
        {
          "output_type": "stream",
          "text": [
            "Loss=0.020843416452407837 Batch_id=468 Accuracy=97.85: 100%|██████████| 469/469 [00:12<00:00, 37.65it/s]\n",
            "  0%|          | 0/469 [00:00<?, ?it/s]"
          ],
          "name": "stderr"
        },
        {
          "output_type": "stream",
          "text": [
            "\n",
            "Test set: Average loss: 0.0356, Accuracy: 9895/10000 (98.95%)\n",
            "\n",
            "EPOCH: 4\n"
          ],
          "name": "stdout"
        },
        {
          "output_type": "stream",
          "text": [
            "Loss=0.1389947086572647 Batch_id=468 Accuracy=97.99: 100%|██████████| 469/469 [00:12<00:00, 36.28it/s]\n",
            "  0%|          | 0/469 [00:00<?, ?it/s]"
          ],
          "name": "stderr"
        },
        {
          "output_type": "stream",
          "text": [
            "\n",
            "Test set: Average loss: 0.0330, Accuracy: 9901/10000 (99.01%)\n",
            "\n",
            "EPOCH: 5\n"
          ],
          "name": "stdout"
        },
        {
          "output_type": "stream",
          "text": [
            "Loss=0.014178787358105183 Batch_id=468 Accuracy=98.08: 100%|██████████| 469/469 [00:13<00:00, 35.02it/s]\n",
            "  0%|          | 0/469 [00:00<?, ?it/s]"
          ],
          "name": "stderr"
        },
        {
          "output_type": "stream",
          "text": [
            "\n",
            "Test set: Average loss: 0.0248, Accuracy: 9923/10000 (99.23%)\n",
            "\n",
            "EPOCH: 6\n"
          ],
          "name": "stdout"
        },
        {
          "output_type": "stream",
          "text": [
            "Loss=0.04619738087058067 Batch_id=468 Accuracy=98.26: 100%|██████████| 469/469 [00:12<00:00, 36.31it/s]\n",
            "  0%|          | 0/469 [00:00<?, ?it/s]"
          ],
          "name": "stderr"
        },
        {
          "output_type": "stream",
          "text": [
            "\n",
            "Test set: Average loss: 0.0283, Accuracy: 9920/10000 (99.20%)\n",
            "\n",
            "EPOCH: 7\n"
          ],
          "name": "stdout"
        },
        {
          "output_type": "stream",
          "text": [
            "Loss=0.04106404259800911 Batch_id=468 Accuracy=98.30: 100%|██████████| 469/469 [00:12<00:00, 36.69it/s]\n",
            "  0%|          | 0/469 [00:00<?, ?it/s]"
          ],
          "name": "stderr"
        },
        {
          "output_type": "stream",
          "text": [
            "\n",
            "Test set: Average loss: 0.0240, Accuracy: 9917/10000 (99.17%)\n",
            "\n",
            "EPOCH: 8\n"
          ],
          "name": "stdout"
        },
        {
          "output_type": "stream",
          "text": [
            "Loss=0.04774254932999611 Batch_id=468 Accuracy=98.45: 100%|██████████| 469/469 [00:13<00:00, 35.35it/s]\n",
            "  0%|          | 0/469 [00:00<?, ?it/s]"
          ],
          "name": "stderr"
        },
        {
          "output_type": "stream",
          "text": [
            "\n",
            "Test set: Average loss: 0.0288, Accuracy: 9901/10000 (99.01%)\n",
            "\n",
            "EPOCH: 9\n"
          ],
          "name": "stdout"
        },
        {
          "output_type": "stream",
          "text": [
            "Loss=0.06342510133981705 Batch_id=468 Accuracy=98.45: 100%|██████████| 469/469 [00:12<00:00, 36.46it/s]\n",
            "  0%|          | 0/469 [00:00<?, ?it/s]"
          ],
          "name": "stderr"
        },
        {
          "output_type": "stream",
          "text": [
            "\n",
            "Test set: Average loss: 0.0236, Accuracy: 9921/10000 (99.21%)\n",
            "\n",
            "EPOCH: 10\n"
          ],
          "name": "stdout"
        },
        {
          "output_type": "stream",
          "text": [
            "Loss=0.012849663384258747 Batch_id=468 Accuracy=98.48: 100%|██████████| 469/469 [00:12<00:00, 37.71it/s]\n",
            "  0%|          | 0/469 [00:00<?, ?it/s]"
          ],
          "name": "stderr"
        },
        {
          "output_type": "stream",
          "text": [
            "\n",
            "Test set: Average loss: 0.0233, Accuracy: 9919/10000 (99.19%)\n",
            "\n",
            "EPOCH: 11\n"
          ],
          "name": "stdout"
        },
        {
          "output_type": "stream",
          "text": [
            "Loss=0.08857490867376328 Batch_id=468 Accuracy=98.52: 100%|██████████| 469/469 [00:12<00:00, 36.93it/s]\n",
            "  0%|          | 0/469 [00:00<?, ?it/s]"
          ],
          "name": "stderr"
        },
        {
          "output_type": "stream",
          "text": [
            "\n",
            "Test set: Average loss: 0.0203, Accuracy: 9940/10000 (99.40%)\n",
            "\n",
            "EPOCH: 12\n"
          ],
          "name": "stdout"
        },
        {
          "output_type": "stream",
          "text": [
            "Loss=0.039818838238716125 Batch_id=468 Accuracy=98.53: 100%|██████████| 469/469 [00:13<00:00, 35.54it/s]\n",
            "  0%|          | 0/469 [00:00<?, ?it/s]"
          ],
          "name": "stderr"
        },
        {
          "output_type": "stream",
          "text": [
            "\n",
            "Test set: Average loss: 0.0237, Accuracy: 9924/10000 (99.24%)\n",
            "\n",
            "EPOCH: 13\n"
          ],
          "name": "stdout"
        },
        {
          "output_type": "stream",
          "text": [
            "Loss=0.021019672974944115 Batch_id=468 Accuracy=98.66: 100%|██████████| 469/469 [00:12<00:00, 37.24it/s]\n",
            "  0%|          | 0/469 [00:00<?, ?it/s]"
          ],
          "name": "stderr"
        },
        {
          "output_type": "stream",
          "text": [
            "\n",
            "Test set: Average loss: 0.0229, Accuracy: 9933/10000 (99.33%)\n",
            "\n",
            "EPOCH: 14\n"
          ],
          "name": "stdout"
        },
        {
          "output_type": "stream",
          "text": [
            "Loss=0.10073526948690414 Batch_id=468 Accuracy=98.76: 100%|██████████| 469/469 [00:12<00:00, 45.76it/s]\n"
          ],
          "name": "stderr"
        },
        {
          "output_type": "stream",
          "text": [
            "\n",
            "Test set: Average loss: 0.0191, Accuracy: 9941/10000 (99.41%)\n",
            "\n"
          ],
          "name": "stdout"
        }
      ]
    },
    {
      "cell_type": "code",
      "metadata": {
        "id": "lbZdbGeec72N",
        "colab_type": "code",
        "outputId": "96951002-91b4-41b6-d7d3-6c186b529d3d",
        "colab": {
          "base_uri": "https://localhost:8080/",
          "height": 624
        }
      },
      "source": [
        "## Plot the accuracy graphs \n",
        "\n",
        "import matplotlib.pyplot as plt\n",
        "fig, axs = plt.subplots(2,2,figsize=(15,10))\n",
        "axs[0, 0].plot(train_losses)\n",
        "axs[0, 0].set_title(\"Training Loss\")\n",
        "axs[1, 0].plot(train_acc)\n",
        "axs[1, 0].set_title(\"Training Accuracy\")\n",
        "axs[0, 1].plot(test_losses)\n",
        "axs[0, 1].set_title(\"Test Loss\")\n",
        "axs[1, 1].plot(test_acc)\n",
        "axs[1, 1].set_title(\"Test Accuracy\")"
      ],
      "execution_count": 17,
      "outputs": [
        {
          "output_type": "execute_result",
          "data": {
            "text/plain": [
              "Text(0.5, 1.0, 'Test Accuracy')"
            ]
          },
          "metadata": {
            "tags": []
          },
          "execution_count": 17
        },
        {
          "output_type": "display_data",
          "data": {
            "image/png": "[encoded data removed]",
            "text/plain": [
              "<Figure size 1080x720 with 4 Axes>"
            ]
          },
          "metadata": {
            "tags": []
          }
        }
      ]
    },
    {
      "cell_type": "markdown",
      "metadata": {
        "id": "XpVacOzbhbRX",
        "colab_type": "text"
      },
      "source": [
        "##"
      ]
    }
  ]
}