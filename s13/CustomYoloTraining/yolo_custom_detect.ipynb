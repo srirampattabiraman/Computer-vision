{
 "cells": [
  {
   "cell_type": "code",
   "execution_count": 0,
   "metadata": {
    "colab": {
     "base_uri": "https://localhost:8080/",
     "height": 123
    },
    "colab_type": "code",
    "id": "LLih5_NbWAGJ",
    "outputId": "d37c1622-700b-4fed-ba31-ca47e68d6040"
   },
   "outputs": [
    {
     "name": "stdout",
     "output_type": "stream",
     "text": [
      "Go to this URL in a browser: https://accounts.google.com/o/oauth2/auth?client_id=947318989803-6bn6qk8qdgf4n4g3pfee6491hc0brc4i.apps.googleusercontent.com&redirect_uri=urn%3aietf%3awg%3aoauth%3a2.0%3aoob&response_type=code&scope=email%20https%3a%2f%2fwww.googleapis.com%2fauth%2fdocs.test%20https%3a%2f%2fwww.googleapis.com%2fauth%2fdrive%20https%3a%2f%2fwww.googleapis.com%2fauth%2fdrive.photos.readonly%20https%3a%2f%2fwww.googleapis.com%2fauth%2fpeopleapi.readonly\n",
      "\n",
      "Enter your authorization code:\n",
      "··········\n",
      "Mounted at /content/drive\n"
     ]
    }
   ],
   "source": [
    "from google.colab import drive\n",
    "drive.mount('/content/drive')"
   ]
  },
  {
   "cell_type": "code",
   "execution_count": 1,
   "metadata": {
    "colab": {
     "base_uri": "https://localhost:8080/",
     "height": 34
    },
    "colab_type": "code",
    "id": "MfQtajJ8V27m",
    "outputId": "91b348b7-0e89-445d-fd8f-6ab46bcb974c"
   },
   "outputs": [
    {
     "name": "stderr",
     "output_type": "stream",
     "text": [
      "'pwd' is not recognized as an internal or external command,\n",
      "operable program or batch file.\n"
     ]
    }
   ],
   "source": [
    "import os\n",
    "os.chdir('C:/Users/pbhat/Google Drive/YoloV3Custom/')\n",
    "!pwd"
   ]
  },
  {
   "cell_type": "code",
   "execution_count": 2,
   "metadata": {
    "colab": {
     "base_uri": "https://localhost:8080/",
     "height": 1000
    },
    "colab_type": "code",
    "id": "XErQ5yp_WFmL",
    "outputId": "ba2d89a6-0d15-4784-e041-578c04670451"
   },
   "outputs": [
    {
     "name": "stdout",
     "output_type": "stream",
     "text": [
      "Namespace(agnostic_nms=False, augment=False, cfg='cfg/yolov3-custom.cfg', classes=None, conf_thres=0.3, device='', fourcc='mp4v', half=False, img_size=512, iou_thres=0.6, names='data/customdata_detect/custom.names', output='output', save_txt=False, source='data/customdata_detect/images', view_img=False, weights='weights/last.pt')"
     ]
    },
    {
     "name": "stderr",
     "output_type": "stream",
     "text": [
      "Traceback (most recent call last):\n",
      "  File \"detect.py\", line 186, in <module>\n",
      "    detect()\n",
      "  File \"detect.py\", line 97, in detect\n",
      "    multi_label=False, classes=opt.classes, agnostic=opt.agnostic_nms)\n",
      "  File \"C:\\Users\\pbhat\\Google Drive\\YoloV3Custom\\utils\\utils.py\", line 557, in non_max_suppression\n",
      "    i = torchvision.ops.boxes.nms(boxes, scores, iou_thres)\n",
      "  File \"C:\\anaconda\\envs\\session_7\\lib\\site-packages\\torchvision\\ops\\boxes.py\", line 32, in nms\n",
      "    _C = _lazy_import()\n",
      "  File \"C:\\anaconda\\envs\\session_7\\lib\\site-packages\\torchvision\\extension.py\", line 12, in _lazy_import\n",
      "    from torchvision import _C as C\n",
      "ImportError: DLL load failed: The specified module could not be found.\n"
     ]
    },
    {
     "name": "stdout",
     "output_type": "stream",
     "text": [
      "\n",
      "Using CPU\n",
      "\n",
      "Model Summary: 225 layers, 6.25733e+07 parameters, 6.25733e+07 gradients\n",
      "image 1/743 data\\customdata_detect\\images\\image-0000001.jpeg: \n"
     ]
    }
   ],
   "source": [
    "!python detect.py --conf-thres 0.3 --output output"
   ]
  },
  {
   "cell_type": "code",
   "execution_count": 0,
   "metadata": {
    "colab": {},
    "colab_type": "code",
    "id": "ov99YKbMWa0Y"
   },
   "outputs": [],
   "source": []
  }
 ],
 "metadata": {
  "accelerator": "GPU",
  "colab": {
   "name": "yolo_custom_detect.ipynb",
   "provenance": []
  },
  "kernelspec": {
   "display_name": "Python 3",
   "language": "python",
   "name": "python3"
  },
  "language_info": {
   "codemirror_mode": {
    "name": "ipython",
    "version": 3
   },
   "file_extension": ".py",
   "mimetype": "text/x-python",
   "name": "python",
   "nbconvert_exporter": "python",
   "pygments_lexer": "ipython3",
   "version": "3.7.6"
  }
 },
 "nbformat": 4,
 "nbformat_minor": 1
}
